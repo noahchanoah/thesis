{
 "cells": [
  {
   "cell_type": "markdown",
   "metadata": {},
   "source": [
    "### Minimal code to generate data from Ising model\n",
    "1/2/24 Noah Chavez"
   ]
  },
  {
   "cell_type": "code",
   "execution_count": 465,
   "metadata": {},
   "outputs": [],
   "source": [
    "# Imports -- no Pygame needed \n",
    "import numpy as np\n",
    "import random\n",
    "import matplotlib.pyplot as plt\n",
    " \n",
    "# init lattice\n",
    "def initLattice(latticeSize: int, hot: bool) -> list[list[int]]:\n",
    "    lattice = np.zeros((latticeSize, latticeSize))\n",
    "    for x in np.arange(0, latticeSize):\n",
    "        for y in np.arange(0, latticeSize):\n",
    "            if hot:\n",
    "                spin = random.randint(0,1)\n",
    "            else:\n",
    "                spin = 1\n",
    "            if(spin == 1):\n",
    "                lattice[x][y] = 1\n",
    "            else:\n",
    "                lattice[x][y] = -1\n",
    "    return lattice\n",
    "\n",
    "\n",
    "# Calculate change in energy of lattice by flipping a single site (i,j)\n",
    "def deltaU(i: int, j: int, lattice: list) -> float:\n",
    "    '''\n",
    "    This calulation requires considering neighboring sites (first term in Hamiltonian)\n",
    "    Therefore, we will use periodic boundary conditions (torus)\n",
    "    I would like to imlement the external field term so you can drive the system to specific states\n",
    "\n",
    "    E1 = -spin(i,j)*sum(spin(neighbors)),     E2 = spin(i,j)*sum(spin(neighbors))\n",
    "    Ediff = E2 - E1 = 2spin(i,j)*sum(neighbors) (if spin(i,j) is 1 (up))            <<<<< NO epsilon/J? unclear why, currently just implementing pseudocode exactly as written\n",
    "\n",
    "    In the mean field approximation E_up = -4J*sum(spin(neighbors))/4) \n",
    "\n",
    "    i is vertical, j is horizontal, zero indexed\n",
    "    '''\n",
    "\n",
    "    size = len(lattice)\n",
    "    # If site is in an edge, apply periodic boundary conditions\n",
    "    if(i == 0):\n",
    "        top = lattice[size-1,j]\n",
    "    else:\n",
    "        top = lattice[i-1][j]\n",
    "    if(i == size-1):\n",
    "        bottom = lattice[0][j]\n",
    "    else:\n",
    "        bottom = lattice[i+1][j]\n",
    "    if(j == 0):\n",
    "        left = lattice[i][size-1]\n",
    "    else:\n",
    "        left = lattice[i][j-1]\n",
    "    if(j == size-1):\n",
    "        right = lattice[i][0]\n",
    "    else:\n",
    "        right = lattice[i][j+1]\n",
    "\n",
    "    #now calculate the energy difference\n",
    "    Ediff = 2*lattice[i][j]*(top+bottom+left+right)\n",
    "    return Ediff\n",
    "\n",
    "\n",
    "# size = 25 #was 50\n",
    "# siteSize = 10\n",
    "# lat = initLattice(size,siteSize) #lattice starts at high T (randomized)\n",
    "\n",
    "\n",
    "AVERAGING = True\n",
    "\n",
    "def Metropolis(lattice, initTemp, iterations):\n",
    "    '''\n",
    "    Metropolis acts on a lattice passed in and does NOT initialize each time. Therefore\n",
    "    there is no need to wait for thermalization from hot start each time\n",
    "    '''\n",
    "    #store m in array\n",
    "    mArr = np.array([])\n",
    "    mArrAvg = np.array([])\n",
    "\n",
    "    for i in range(iterations):\n",
    "        #in units of J/k (J is epsilon the coupling constant, k is boltzmann k) Tc=2.27\n",
    "        #calculate magnetization (should this go in just the while True loop?)\n",
    "        m = 0\n",
    "        for x in range(lattice[0].size):\n",
    "            for y in range(lattice[0].size):\n",
    "                m += lattice[x][y]\n",
    "                \n",
    "        m = m / np.power(lattice[0].size,2)\n",
    "        #print(\"m: %s\" % m)\n",
    "        # if averaging/smoothing enabled average a batch and add it\n",
    "        mArr = np.append(mArr,m)\n",
    "        if(AVERAGING):\n",
    "            bs = iterations #batch size\n",
    "            if(mArr.size % bs == 0):\n",
    "                sum = np.sum(mArr[mArr.size-bs:])\n",
    "                bAvg = sum/bs\n",
    "                mArrAvg = np.append(mArrAvg, bAvg)\n",
    "        \n",
    "    \n",
    "        #calc Ediff for a site\n",
    "        i = random.randint(0,lattice[0].size-1) \n",
    "        j = random.randint(0,lattice[0].size-1)\n",
    "        Ediff = deltaU(i,j,lattice)\n",
    "        #Metropolis to decide whether site should be flipped. Needs to be iterated 100 times??\n",
    "        if(Ediff <= 0):\n",
    "            lattice[i][j] = -lattice[i][j] \n",
    "        else:\n",
    "            #now only flip site according to Boltzmann factor\n",
    "            boltzmannRandom = random.uniform(0,1)\n",
    "            if(boltzmannRandom < np.exp(-Ediff/initTemp)):\n",
    "                lattice[i][j] = -lattice[i][j]\n",
    "\n",
    "    if(AVERAGING):\n",
    "        return mArrAvg\n",
    "    else: \n",
    "        return mArr\n",
    "\n",
    "# #T = 0.01, iters = 40000\n",
    "# T = 0.01\n",
    "# iters = 65000\n",
    "# mArr = Metropolis(lat, T, iters) \n"
   ]
  },
  {
   "cell_type": "code",
   "execution_count": 163,
   "metadata": {},
   "outputs": [],
   "source": [
    "#init lattice\n",
    "size = 10 #was 50\n",
    "lat = initLattice(size,False) #lattice starts at high T (randomized)\n",
    "\n",
    "#Now perform metropolois over a quasi-static temperature sweep \n",
    "#T = 0.01, iters = 40000\n",
    "T = 0.1\n",
    "iters = 100 #65000 is enough to reach equilibrium from hot start -- it is probably a bit too much 150000\n",
    "\n",
    "mArr = []\n",
    "\n",
    "for i in range(80):\n",
    "    mOut = Metropolis(lat, T, iters)\n",
    "    mArr = np.append(mArr, mOut)\n",
    "    T += 0.05\n",
    "\n",
    "\n"
   ]
  },
  {
   "cell_type": "markdown",
   "metadata": {},
   "source": [
    "as a function of T"
   ]
  },
  {
   "cell_type": "code",
   "execution_count": 153,
   "metadata": {},
   "outputs": [
    {
     "data": {
      "text/plain": [
       "array([0.789638])"
      ]
     },
     "execution_count": 153,
     "metadata": {},
     "output_type": "execute_result"
    }
   ],
   "source": [
    "lat = initLattice(size,False)\n",
    "Metropolis(lat,2.27,10000)"
   ]
  },
  {
   "cell_type": "markdown",
   "metadata": {},
   "source": [
    "as afuncton of step"
   ]
  },
  {
   "cell_type": "code",
   "execution_count": 102,
   "metadata": {},
   "outputs": [
    {
     "data": {
      "image/png": "[encoded data removed]",
      "text/plain": [
       "<Figure size 640x480 with 1 Axes>"
      ]
     },
     "metadata": {},
     "output_type": "display_data"
    }
   ],
   "source": [
    "#Now plot the magnitzation as a func of iteration\n",
    "#eqMPos = np.full((mArrCool.size,1),np.power(size,2))\n",
    "#eqMNeg = np.full(\n",
    "# (mArrCool.size,1),-np.power(size,2))\n",
    "#iterCool = np.arange(0,mArrCool.size)\n",
    "#plt.plot(iterCool,eqMPos, color=\"red\")\n",
    "#plt.plot(iterCool,eqMNeg, color=\"black\")\n",
    "#plt.scatter(iterCool, mArrCool, s=1)\n",
    "#EOD = max(iterCool)\n",
    "#iter = np.arange(EOD, EOD + mArr.size)\n",
    "\n",
    "plt.plot(np.arange(0,mArr.size), mArr)\n",
    "plt.show()\n",
    "#plt.savefig(\"MfuncofStep.png\", dpi=300, format=\"png\")"
   ]
  },
  {
   "cell_type": "markdown",
   "metadata": {},
   "source": [
    "I wonder if finite scaling effects produce metastable states with higher frequency? **It seems that ~40,000 iterations is enough for the system to reach equilibrium** Therefore, a first implementation to keep the system in equilibrium as we change temp is to step temp up, wait 40,000 steps and then step up. 40,000 iterations takes 3.3 seconds."
   ]
  },
  {
   "cell_type": "code",
   "execution_count": 89,
   "metadata": {},
   "outputs": [],
   "source": [
    "#Now sweep temperature\n",
    "\n",
    "#TODO I should probably add a paramter that allows me to control some averaging parameter so i dont spit out ~40k data points PER TEMEP STEP"
   ]
  },
  {
   "cell_type": "markdown",
   "metadata": {},
   "source": [
    "## Here, I redo the Metropolis, forcing each site to be checked"
   ]
  },
  {
   "cell_type": "code",
   "execution_count": 323,
   "metadata": {},
   "outputs": [],
   "source": [
    "\n",
    "AVERAGING = True\n",
    "\n",
    "def MetropolisALL(lattice, initTemp, iterations):\n",
    "    '''\n",
    "    Metropolis acts on a lattice passed in and does NOT initialize each time. Therefore\n",
    "    there is no need to wait for thermalization from hot start each time\n",
    "    '''\n",
    "    #store m in array\n",
    "    mArr = np.array([])\n",
    "    mArrAvg = np.array([])\n",
    "\n",
    "    for i in range(iterations):\n",
    "        #in units of J/k (J is epsilon the coupling constant, k is boltzmann k) Tc=2.27\n",
    "        #calculate magnetization (should this go in just the while True loop?)\n",
    "        m = 0\n",
    "        for x in range(lattice[0].size):\n",
    "            for y in range(lattice[0].size):\n",
    "                m += lattice[x][y]\n",
    "                \n",
    "        m = m / np.power(lattice[0].size,2)\n",
    "        #print(\"m: %s\" % m)\n",
    "        # if averaging/smoothing enabled average a batch and add it\n",
    "        mArr = np.append(mArr,m)\n",
    "        if(AVERAGING):\n",
    "            bs = iterations #batch size\n",
    "            if(mArr.size % bs == 0):\n",
    "                sum = np.sum(mArr[mArr.size-bs:])\n",
    "                bAvg = sum/bs\n",
    "                mArrAvg = np.append(mArrAvg, bAvg)\n",
    "        \n",
    "    \n",
    "        #calc Ediff for ALL sites\n",
    "        for i in range(lattice[0].size):\n",
    "            for j in range(lattice[0].size):\n",
    "                Ediff = deltaU(i,j,lattice)\n",
    "                #Metropolis to decide whether site should be flipped. Needs to be iterated 100 times??\n",
    "                if(Ediff <= 0):\n",
    "                    lattice[i][j] = -lattice[i][j] \n",
    "                else:\n",
    "                    #now only flip site according to Boltzmann factor\n",
    "                    boltzmannRandom = random.uniform(0,1)\n",
    "                    if(boltzmannRandom < np.exp(-Ediff/initTemp)):\n",
    "                        lattice[i][j] = -lattice[i][j]\n",
    "\n",
    "    if(AVERAGING):\n",
    "        return mArrAvg\n",
    "    else: \n",
    "        return mArr\n",
    "\n"
   ]
  },
  {
   "cell_type": "code",
   "execution_count": null,
   "metadata": {},
   "outputs": [
    {
     "name": "stdout",
     "output_type": "stream",
     "text": [
      "j: 0\n",
      "T: 10.05\n",
      "j: 1\n",
      "T: 10.100000000000001\n",
      "j: 2\n",
      "T: 10.150000000000002\n",
      "j: 3\n",
      "T: 10.200000000000003\n",
      "j: 4\n",
      "T: 10.250000000000004\n",
      "j: 5\n",
      "T: 10.300000000000004\n",
      "j: 6\n",
      "T: 10.350000000000005\n",
      "j: 7\n",
      "T: 10.400000000000006\n",
      "j: 8\n",
      "T: 10.450000000000006\n",
      "j: 9\n",
      "T: 10.500000000000007\n",
      "j: 10\n",
      "T: 10.550000000000008\n",
      "j: 11\n",
      "T: 10.600000000000009\n",
      "j: 12\n",
      "T: 10.65000000000001\n",
      "j: 13\n",
      "T: 10.70000000000001\n",
      "j: 14\n",
      "T: 10.75000000000001\n",
      "j: 15\n",
      "T: 10.800000000000011\n",
      "j: 16\n",
      "T: 10.850000000000012\n",
      "j: 17\n",
      "T: 10.900000000000013\n",
      "j: 18\n",
      "T: 10.950000000000014\n",
      "j: 19\n",
      "T: 11.000000000000014\n",
      "j: 20\n",
      "T: 11.050000000000015\n",
      "j: 21\n",
      "T: 11.100000000000016\n",
      "j: 22\n",
      "T: 11.150000000000016\n",
      "j: 23\n",
      "T: 11.200000000000017\n",
      "j: 24\n",
      "T: 11.250000000000018\n",
      "j: 25\n",
      "T: 11.300000000000018\n",
      "j: 26\n",
      "T: 11.35000000000002\n",
      "j: 27\n",
      "T: 11.40000000000002\n",
      "j: 28\n",
      "T: 11.45000000000002\n",
      "j: 29\n",
      "T: 11.500000000000021\n",
      "j: 30\n",
      "T: 11.550000000000022\n",
      "j: 31\n",
      "T: 11.600000000000023\n",
      "j: 32\n",
      "T: 11.650000000000023\n",
      "j: 33\n",
      "T: 11.700000000000024\n",
      "j: 34\n",
      "T: 11.750000000000025\n",
      "j: 35\n",
      "T: 11.800000000000026\n",
      "j: 36\n",
      "T: 11.850000000000026\n",
      "j: 37\n",
      "T: 11.900000000000027\n",
      "j: 38\n",
      "T: 11.950000000000028\n",
      "j: 39\n",
      "T: 12.000000000000028\n",
      "j: 40\n",
      "T: 12.05000000000003\n",
      "j: 41\n",
      "T: 12.10000000000003\n",
      "j: 42\n",
      "T: 12.15000000000003\n",
      "j: 43\n",
      "T: 12.200000000000031\n",
      "j: 44\n",
      "T: 12.250000000000032\n",
      "j: 45\n",
      "T: 12.300000000000033\n",
      "j: 46\n",
      "T: 12.350000000000033\n",
      "j: 47\n",
      "T: 12.400000000000034\n",
      "j: 48\n",
      "T: 12.450000000000035\n",
      "j: 49\n",
      "T: 12.500000000000036\n"
     ]
    }
   ],
   "source": [
    "#init lattice\n",
    "size = 10 #was 50\n",
    "lat = initLattice(size,False) #lattice starts at high T (randomized)\n",
    "\n",
    "#Now perform metropolois over a quasi-static temperature sweep \n",
    "#T = 0.01, iters = 40000\n",
    "T = 0.1\n",
    "\n",
    "mPlot = []\n",
    "\n",
    "for j in range(50):\n",
    "    print(\"j: %s\" %j)\n",
    "    mOut = []\n",
    "    for i in np.arange(0,100):\n",
    "        mOut.append(MetropolisALL(lat, T, 100*size*size))\n",
    "        \n",
    "    avg = sum(mOut)/len(mOut)\n",
    "    mPlot = np.append(mPlot, avg)\n",
    "    T += 0.05\n",
    "    print(\"T: %s\" % T)\n",
    "\n",
    "#print(sum(mPlot)/mPlot.size)"
   ]
  },
  {
   "cell_type": "code",
   "execution_count": 674,
   "metadata": {},
   "outputs": [
    {
     "data": {
      "image/png": "[encoded data removed]",
      "text/plain": [
       "<Figure size 640x480 with 1 Axes>"
      ]
     },
     "metadata": {},
     "output_type": "display_data"
    }
   ],
   "source": [
    "plt.plot(np.arange(0,mPlot.size), mPlot)\n",
    "\n",
    "# auto = []\n",
    "# for i in np.arange(0,mPlot.size):\n",
    "#     auto.append(mlAC(mPlot,i))\n",
    "# plt.plot(np.arange(0,mPlot.size), auto)\n",
    "\n",
    "#plt.xlim(0,10000)\n",
    "plt.show()\n",
    "#plt.savefig(\"MfuncofStep134min.png\", dpi=300, format=\"png\")"
   ]
  },
  {
   "cell_type": "code",
   "execution_count": 613,
   "metadata": {},
   "outputs": [],
   "source": [
    "\n",
    "def MetropolisALL(lattice, initTemp, iterations):\n",
    "    '''\n",
    "    Metropolis acts on a lattice passed in and does NOT initialize each time. Therefore\n",
    "    there is no need to wait for thermalization from hot start each time\n",
    "    '''\n",
    "    #store m in array\n",
    "    mArr = np.array([])\n",
    "    mArrAvg = np.array([])\n",
    "\n",
    "    for iter in range(iterations):\n",
    "\n",
    "        if((iter % 50 == 0) and (iter != 0)): #measure every ten complete Metropolis rasters\n",
    "            m = 0\n",
    "            for x in range(lattice[0].size):\n",
    "                for y in range(lattice[0].size):\n",
    "                    m += lattice[x][y]\n",
    "            m = m / np.power(lattice[0].size,2)\n",
    "            mArr = np.append(mArr,m)\n",
    "\n",
    "        #calc Ediff for ALL sites\n",
    "        i = random.randint(0,lattice[0].size-1) #draw from top left so 49 goes to 50\n",
    "        j = random.randint(0,lattice[0].size-1)\n",
    "        # for i in range(lattice[0].size):\n",
    "        #     for j in range(lattice[0].size):\n",
    "        Ediff = deltaU(i,j,lattice)\n",
    "        #Metropolis to decide whether site should be flipped.\n",
    "        if(Ediff <= 0):\n",
    "            lattice[i][j] = -lattice[i][j] \n",
    "        else:\n",
    "            #now only flip site according to Boltzmann factor\n",
    "            boltzmannRandom = random.uniform(0,1)\n",
    "            if(boltzmannRandom < np.exp(-Ediff/initTemp)):\n",
    "                lattice[i][j] = -lattice[i][j]\n",
    "\n",
    "\n",
    "    mAvg = sum(mArr) / mArr.size\n",
    "    return mArr\n",
    "\n"
   ]
  },
  {
   "cell_type": "code",
   "execution_count": 655,
   "metadata": {},
   "outputs": [
    {
     "data": {
      "text/plain": [
       "0.11698364043454293"
      ]
     },
     "execution_count": 655,
     "metadata": {},
     "output_type": "execute_result"
    }
   ],
   "source": [
    "mlAC(mPlot, 3)"
   ]
  },
  {
   "cell_type": "markdown",
   "metadata": {},
   "source": [
    "$\\phi_A(t) = \\frac{\\langle A(0)A(t)\\rangle-\\langle A \\rangle^2}{\\langle A^2 \\rangle - \\langle A \\rangle^2}$"
   ]
  },
  {
   "cell_type": "code",
   "execution_count": 661,
   "metadata": {},
   "outputs": [],
   "source": [
    "#Margit Liu autocorrelation\n",
    "def mlAC(timeSeries: list, time: float) -> list:\n",
    "    lag = 10 #Tau, the lag between current t and t to measure correlation with\n",
    "    A0 = timeSeries[time-lag]\n",
    "    At = timeSeries[time]\n",
    "    avgProduct = (A0*At)/2\n",
    "    #i suppose A is just the mean value?\n",
    "    Asquare = []\n",
    "    for i in timeSeries:\n",
    "        Asquare.append(i*i)\n",
    "\n",
    "    autoCor = (avgProduct - np.power(np.average(timeSeries),2))/(np.average(Asquare) - np.power(np.average(timeSeries),2))\n",
    "    return autoCor"
   ]
  },
  {
   "cell_type": "markdown",
   "metadata": {},
   "source": [
    "$R_{XX}(t_1,t_2) = E[X_{t_1}X^*_{t_2}]$ with $E \\equiv \\sum_{i=1}^n x_ip_i$"
   ]
  },
  {
   "cell_type": "code",
   "execution_count": null,
   "metadata": {},
   "outputs": [],
   "source": [
    "#Wikipedia autocorrelation"
   ]
  },
  {
   "cell_type": "markdown",
   "metadata": {},
   "source": [
    "Utility"
   ]
  },
  {
   "cell_type": "markdown",
   "metadata": {},
   "source": []
  }
 ],
 "metadata": {
  "kernelspec": {
   "display_name": "Python 3",
   "language": "python",
   "name": "python3"
  },
  "language_info": {
   "codemirror_mode": {
    "name": "ipython",
    "version": 3
   },
   "file_extension": ".py",
   "mimetype": "text/x-python",
   "name": "python",
   "nbconvert_exporter": "python",
   "pygments_lexer": "ipython3",
   "version": "3.12.1"
  }
 },
 "nbformat": 4,
 "nbformat_minor": 2
}
