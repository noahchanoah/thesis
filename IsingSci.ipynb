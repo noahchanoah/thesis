{
 "cells": [
  {
   "cell_type": "markdown",
   "metadata": {},
   "source": [
    "### Minimal code to generate data from Ising model\n",
    "1/2/24 Noah Chavez"
   ]
  },
  {
   "cell_type": "code",
   "execution_count": 47,
   "metadata": {},
   "outputs": [],
   "source": [
    "# Imports -- no Pygame needed \n",
    "import numpy as np\n",
    "import random\n",
    "import matplotlib.pyplot as plt\n",
    " \n",
    "# init lattice\n",
    "def initLattice(latticeSize: int, siteSize: int) -> list[list[int]]:\n",
    "    lattice = np.zeros((latticeSize, latticeSize))\n",
    "    for x in np.arange(0, latticeSize*siteSize, siteSize):\n",
    "        for y in np.arange(0, latticeSize*siteSize, siteSize):\n",
    "            spin = random.randint(0,1)\n",
    "            if(spin == 1):\n",
    "                lattice[int(x/siteSize)][int(y/siteSize)] = 1\n",
    "            else:\n",
    "                lattice[int(x/siteSize)][int(y/siteSize)] = -1\n",
    "    return lattice\n",
    "\n",
    "\n",
    "# Calculate change in energy of lattice by flipping a single site (i,j)\n",
    "def deltaU(i: int, j: int, lattice: list) -> float:\n",
    "    '''\n",
    "    This calulation requires considering neighboring sites (first term in Hamiltonian)\n",
    "    Therefore, we will use periodic boundary conditions (torus)\n",
    "    I would like to imlement the external field term so you can drive the system to specific states\n",
    "\n",
    "    E1 = -spin(i,j)*sum(spin(neighbors)),     E2 = spin(i,j)*sum(spin(neighbors))\n",
    "    Ediff = E2 - E1 = 2spin(i,j)*sum(neighbors) (if spin(i,j) is 1 (up))            <<<<< NO epsilon/J? unclear why, currently just implementing pseudocode exactly as written\n",
    "\n",
    "    In the mean field approximation E_up = -4J*sum(spin(neighbors))/4) \n",
    "\n",
    "    i is vertical, j is horizontal, zero indexed\n",
    "    '''\n",
    "\n",
    "    size = len(lattice)\n",
    "    # If site is in an edge, apply periodic boundary conditions\n",
    "    if(i == 0):\n",
    "        top = lattice[size-1,j]\n",
    "    else:\n",
    "        top = lattice[i-1][j]\n",
    "    if(i == size-1):\n",
    "        bottom = lattice[0][j]\n",
    "    else:\n",
    "        bottom = lattice[i+1][j]\n",
    "    if(j == 0):\n",
    "        left = lattice[i][size-1]\n",
    "    else:\n",
    "        left = lattice[i][j-1]\n",
    "    if(j == size-1):\n",
    "        right = lattice[i][0]\n",
    "    else:\n",
    "        right = lattice[i][j+1]\n",
    "\n",
    "    #now calculate the energy difference\n",
    "    Ediff = 2*lattice[i][j]*(top+bottom+left+right)\n",
    "    return Ediff\n",
    "\n",
    "\n",
    "size = 25 #was 50\n",
    "siteSize = 10\n",
    "lat = initLattice(size,siteSize) #lattice starts at high T (randomized)\n",
    "\n",
    "# Simulation loop\n",
    "T = 0.01 #initial temperature to start metropolis on\n",
    "iters = 40000\n",
    "\n",
    "#store m in array\n",
    "mArr = np.array([])\n",
    "\n",
    "for i in range(iters):\n",
    "    #in units of J/k (J is epsilon the coupling constant, k is boltzmann k) Tc=2.27\n",
    "    #calculate magnetization (should this go in just the while True loop?)\n",
    "    m = 0\n",
    "    for x in range(size):\n",
    "        for y in range(size):\n",
    "            m += lat[x][y]\n",
    "\n",
    "    #print(\"m: %s\" % m)\n",
    "    #add m to array\n",
    "    mArr = np.append(mArr,m)\n",
    "   \n",
    "    #calc Ediff for a site\n",
    "    i = random.randint(0,size-1) \n",
    "    j = random.randint(0,size-1)\n",
    "    Ediff = deltaU(i,j,lat)\n",
    "    #Metropolis to decide whether site should be flipped. Needs to be iterated 100 times??\n",
    "    if(Ediff <= 0):\n",
    "        lat[i][j] = -lat[i][j] \n",
    "    else:\n",
    "        #now only flip site according to Boltzmann factor\n",
    "        boltzmannRandom = random.uniform(0,1)\n",
    "        if(boltzmannRandom < np.exp(-Ediff/T)):\n",
    "            lat[i][j] = -lat[i][j]\n"
   ]
  },
  {
   "cell_type": "code",
   "execution_count": 48,
   "metadata": {},
   "outputs": [
    {
     "data": {
      "image/png": "[encoded data removed]",
      "text/plain": [
       "<Figure size 640x480 with 1 Axes>"
      ]
     },
     "metadata": {},
     "output_type": "display_data"
    }
   ],
   "source": [
    "#Now plot the magnitzation as a func of iteration\n",
    "eqMPos = np.full((mArr.size,1),np.power(size,2))\n",
    "eqMNeg = np.full((mArr.size,1),-np.power(size,2))\n",
    "iter = np.arange(0,mArr.size)\n",
    "plt.plot(iter,eqMPos, color=\"red\")\n",
    "plt.plot(iter,eqMNeg, color=\"black\")\n",
    "plt.scatter(iter, mArr, s=1)\n",
    "plt.show()"
   ]
  },
  {
   "cell_type": "markdown",
   "metadata": {},
   "source": [
    "I wonder if finite scaling effects produce metastable states with higher frequency? **It seems that ~40,000 iterations is enough for the system to reach equilibrium** Therefore, a first implementation to keep the system in equilibrium as we change temp is to step temp up, wait 40,000 steps and then step up. 40,000 iterations takes 3.3 seconds."
   ]
  },
  {
   "cell_type": "code",
   "execution_count": null,
   "metadata": {},
   "outputs": [],
   "source": []
  }
 ],
 "metadata": {
  "kernelspec": {
   "display_name": "Python 3",
   "language": "python",
   "name": "python3"
  },
  "language_info": {
   "codemirror_mode": {
    "name": "ipython",
    "version": 3
   },
   "file_extension": ".py",
   "mimetype": "text/x-python",
   "name": "python",
   "nbconvert_exporter": "python",
   "pygments_lexer": "ipython3",
   "version": "3.12.1"
  }
 },
 "nbformat": 4,
 "nbformat_minor": 2
}
