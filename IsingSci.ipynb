{
 "cells": [
  {
   "cell_type": "markdown",
   "metadata": {},
   "source": [
    "### Minimal code to generate data from Ising model\n",
    "1/2/24 Noah Chavez"
   ]
  },
  {
   "cell_type": "code",
   "execution_count": 162,
   "metadata": {},
   "outputs": [],
   "source": [
    "# Imports -- no Pygame needed \n",
    "import numpy as np\n",
    "import random\n",
    "import matplotlib.pyplot as plt\n",
    " \n",
    "# init lattice\n",
    "def initLattice(latticeSize: int, hot: bool) -> list[list[int]]:\n",
    "    lattice = np.zeros((latticeSize, latticeSize))\n",
    "    for x in np.arange(0, latticeSize):\n",
    "        for y in np.arange(0, latticeSize):\n",
    "            if hot:\n",
    "                spin = random.randint(0,1)\n",
    "            else:\n",
    "                spin = 1\n",
    "            if(spin == 1):\n",
    "                lattice[x][y] = 1\n",
    "            else:\n",
    "                lattice[x][y] = -1\n",
    "    return lattice\n",
    "\n",
    "\n",
    "# Calculate change in energy of lattice by flipping a single site (i,j)\n",
    "def deltaU(i: int, j: int, lattice: list) -> float:\n",
    "    '''\n",
    "    This calulation requires considering neighboring sites (first term in Hamiltonian)\n",
    "    Therefore, we will use periodic boundary conditions (torus)\n",
    "    I would like to imlement the external field term so you can drive the system to specific states\n",
    "\n",
    "    E1 = -spin(i,j)*sum(spin(neighbors)),     E2 = spin(i,j)*sum(spin(neighbors))\n",
    "    Ediff = E2 - E1 = 2spin(i,j)*sum(neighbors) (if spin(i,j) is 1 (up))            <<<<< NO epsilon/J? unclear why, currently just implementing pseudocode exactly as written\n",
    "\n",
    "    In the mean field approximation E_up = -4J*sum(spin(neighbors))/4) \n",
    "\n",
    "    i is vertical, j is horizontal, zero indexed\n",
    "    '''\n",
    "\n",
    "    size = len(lattice)\n",
    "    # If site is in an edge, apply periodic boundary conditions\n",
    "    if(i == 0):\n",
    "        top = lattice[size-1,j]\n",
    "    else:\n",
    "        top = lattice[i-1][j]\n",
    "    if(i == size-1):\n",
    "        bottom = lattice[0][j]\n",
    "    else:\n",
    "        bottom = lattice[i+1][j]\n",
    "    if(j == 0):\n",
    "        left = lattice[i][size-1]\n",
    "    else:\n",
    "        left = lattice[i][j-1]\n",
    "    if(j == size-1):\n",
    "        right = lattice[i][0]\n",
    "    else:\n",
    "        right = lattice[i][j+1]\n",
    "\n",
    "    #now calculate the energy difference\n",
    "    Ediff = 2*lattice[i][j]*(top+bottom+left+right)\n",
    "    return Ediff\n",
    "\n",
    "\n",
    "# size = 25 #was 50\n",
    "# siteSize = 10\n",
    "# lat = initLattice(size,siteSize) #lattice starts at high T (randomized)\n",
    "\n",
    "\n",
    "AVERAGING = True\n",
    "\n",
    "def Metropolis(lattice, initTemp, iterations):\n",
    "    '''\n",
    "    Metropolis acts on a lattice passed in and does NOT initialize each time. Therefore\n",
    "    there is no need to wait for thermalization from hot start each time\n",
    "    '''\n",
    "    #store m in array\n",
    "    mArr = np.array([])\n",
    "    mArrAvg = np.array([])\n",
    "\n",
    "    for i in range(iterations):\n",
    "        #in units of J/k (J is epsilon the coupling constant, k is boltzmann k) Tc=2.27\n",
    "        #calculate magnetization (should this go in just the while True loop?)\n",
    "        m = 0\n",
    "        for x in range(lattice[0].size):\n",
    "            for y in range(lattice[0].size):\n",
    "                m += lattice[x][y]\n",
    "                \n",
    "        m = m / np.power(lattice[0].size,2)\n",
    "        #print(\"m: %s\" % m)\n",
    "        # if averaging/smoothing enabled average a batch and add it\n",
    "        mArr = np.append(mArr,m)\n",
    "        if(AVERAGING):\n",
    "            bs = iterations #batch size\n",
    "            if(mArr.size % bs == 0):\n",
    "                sum = np.sum(mArr[mArr.size-bs:])\n",
    "                bAvg = sum/bs\n",
    "                mArrAvg = np.append(mArrAvg, bAvg)\n",
    "        \n",
    "    \n",
    "        #calc Ediff for a site\n",
    "        i = random.randint(0,lattice[0].size-1) \n",
    "        j = random.randint(0,lattice[0].size-1)\n",
    "        Ediff = deltaU(i,j,lattice)\n",
    "        #Metropolis to decide whether site should be flipped. Needs to be iterated 100 times??\n",
    "        if(Ediff <= 0):\n",
    "            lattice[i][j] = -lattice[i][j] \n",
    "        else:\n",
    "            #now only flip site according to Boltzmann factor\n",
    "            boltzmannRandom = random.uniform(0,1)\n",
    "            if(boltzmannRandom < np.exp(-Ediff/initTemp)):\n",
    "                lattice[i][j] = -lattice[i][j]\n",
    "\n",
    "    if(AVERAGING):\n",
    "        return mArrAvg\n",
    "    else: \n",
    "        return mArr\n",
    "\n",
    "# #T = 0.01, iters = 40000\n",
    "# T = 0.01\n",
    "# iters = 65000\n",
    "# mArr = Metropolis(lat, T, iters) \n"
   ]
  },
  {
   "cell_type": "code",
   "execution_count": 163,
   "metadata": {},
   "outputs": [],
   "source": [
    "#init lattice\n",
    "size = 10 #was 50\n",
    "lat = initLattice(size,False) #lattice starts at high T (randomized)\n",
    "\n",
    "#Now perform metropolois over a quasi-static temperature sweep \n",
    "#T = 0.01, iters = 40000\n",
    "T = 0.1\n",
    "iters = 100 #65000 is enough to reach equilibrium from hot start -- it is probably a bit too much 150000\n",
    "\n",
    "mArr = []\n",
    "\n",
    "for i in range(80):\n",
    "    mOut = Metropolis(lat, T, iters)\n",
    "    mArr = np.append(mArr, mOut)\n",
    "    T += 0.05\n",
    "\n",
    "\n"
   ]
  },
  {
   "cell_type": "markdown",
   "metadata": {},
   "source": [
    "as a function of T"
   ]
  },
  {
   "cell_type": "code",
   "execution_count": 153,
   "metadata": {},
   "outputs": [
    {
     "data": {
      "text/plain": [
       "array([0.789638])"
      ]
     },
     "execution_count": 153,
     "metadata": {},
     "output_type": "execute_result"
    }
   ],
   "source": [
    "lat = initLattice(size,False)\n",
    "Metropolis(lat,2.27,10000)"
   ]
  },
  {
   "cell_type": "markdown",
   "metadata": {},
   "source": [
    "as afuncton of step"
   ]
  },
  {
   "cell_type": "code",
   "execution_count": 102,
   "metadata": {},
   "outputs": [
    {
     "data": {
      "image/png": "[encoded data removed]",
      "text/plain": [
       "<Figure size 640x480 with 1 Axes>"
      ]
     },
     "metadata": {},
     "output_type": "display_data"
    }
   ],
   "source": [
    "#Now plot the magnitzation as a func of iteration\n",
    "#eqMPos = np.full((mArrCool.size,1),np.power(size,2))\n",
    "#eqMNeg = np.full(\n",
    "# (mArrCool.size,1),-np.power(size,2))\n",
    "#iterCool = np.arange(0,mArrCool.size)\n",
    "#plt.plot(iterCool,eqMPos, color=\"red\")\n",
    "#plt.plot(iterCool,eqMNeg, color=\"black\")\n",
    "#plt.scatter(iterCool, mArrCool, s=1)\n",
    "#EOD = max(iterCool)\n",
    "#iter = np.arange(EOD, EOD + mArr.size)\n",
    "\n",
    "plt.plot(np.arange(0,mArr.size), mArr)\n",
    "plt.show()\n",
    "#plt.savefig(\"MfuncofStep.png\", dpi=300, format=\"png\")"
   ]
  },
  {
   "cell_type": "markdown",
   "metadata": {},
   "source": [
    "I wonder if finite scaling effects produce metastable states with higher frequency? **It seems that ~40,000 iterations is enough for the system to reach equilibrium** Therefore, a first implementation to keep the system in equilibrium as we change temp is to step temp up, wait 40,000 steps and then step up. 40,000 iterations takes 3.3 seconds."
   ]
  },
  {
   "cell_type": "code",
   "execution_count": 89,
   "metadata": {},
   "outputs": [],
   "source": [
    "#Now sweep temperature\n",
    "\n",
    "#TODO I should probably add a paramter that allows me to control some averaging parameter so i dont spit out ~40k data points PER TEMEP STEP"
   ]
  },
  {
   "cell_type": "markdown",
   "metadata": {},
   "source": [
    "## Here, I redo the Metropolis, forcing each site to be checked"
   ]
  },
  {
   "cell_type": "code",
   "execution_count": 323,
   "metadata": {},
   "outputs": [],
   "source": [
    "\n",
    "AVERAGING = True\n",
    "\n",
    "def MetropolisALL(lattice, initTemp, iterations):\n",
    "    '''\n",
    "    Metropolis acts on a lattice passed in and does NOT initialize each time. Therefore\n",
    "    there is no need to wait for thermalization from hot start each time\n",
    "    '''\n",
    "    #store m in array\n",
    "    mArr = np.array([])\n",
    "    mArrAvg = np.array([])\n",
    "\n",
    "    for i in range(iterations):\n",
    "        #in units of J/k (J is epsilon the coupling constant, k is boltzmann k) Tc=2.27\n",
    "        #calculate magnetization (should this go in just the while True loop?)\n",
    "        m = 0\n",
    "        for x in range(lattice[0].size):\n",
    "            for y in range(lattice[0].size):\n",
    "                m += lattice[x][y]\n",
    "                \n",
    "        m = m / np.power(lattice[0].size,2)\n",
    "        #print(\"m: %s\" % m)\n",
    "        # if averaging/smoothing enabled average a batch and add it\n",
    "        mArr = np.append(mArr,m)\n",
    "        if(AVERAGING):\n",
    "            bs = iterations #batch size\n",
    "            if(mArr.size % bs == 0):\n",
    "                sum = np.sum(mArr[mArr.size-bs:])\n",
    "                bAvg = sum/bs\n",
    "                mArrAvg = np.append(mArrAvg, bAvg)\n",
    "        \n",
    "    \n",
    "        #calc Ediff for ALL sites\n",
    "        for i in range(lattice[0].size):\n",
    "            for j in range(lattice[0].size):\n",
    "                Ediff = deltaU(i,j,lattice)\n",
    "                #Metropolis to decide whether site should be flipped. Needs to be iterated 100 times??\n",
    "                if(Ediff <= 0):\n",
    "                    lattice[i][j] = -lattice[i][j] \n",
    "                else:\n",
    "                    #now only flip site according to Boltzmann factor\n",
    "                    boltzmannRandom = random.uniform(0,1)\n",
    "                    if(boltzmannRandom < np.exp(-Ediff/initTemp)):\n",
    "                        lattice[i][j] = -lattice[i][j]\n",
    "\n",
    "    if(AVERAGING):\n",
    "        return mArrAvg\n",
    "    else: \n",
    "        return mArr\n",
    "\n"
   ]
  },
  {
   "cell_type": "code",
   "execution_count": 425,
   "metadata": {},
   "outputs": [
    {
     "name": "stdout",
     "output_type": "stream",
     "text": [
      "T: 0.15000000000000002\n",
      "T: 0.2\n",
      "T: 0.25\n",
      "T: 0.3\n",
      "T: 0.35\n",
      "T: 0.39999999999999997\n",
      "T: 0.44999999999999996\n",
      "T: 0.49999999999999994\n",
      "T: 0.5499999999999999\n",
      "T: 0.6\n",
      "T: 0.65\n",
      "T: 0.7000000000000001\n",
      "T: 0.7500000000000001\n",
      "T: 0.8000000000000002\n",
      "T: 0.8500000000000002\n",
      "T: 0.9000000000000002\n",
      "T: 0.9500000000000003\n",
      "T: 1.0000000000000002\n",
      "T: 1.0500000000000003\n",
      "T: 1.1000000000000003\n",
      "T: 1.1500000000000004\n",
      "T: 1.2000000000000004\n",
      "T: 1.2500000000000004\n",
      "T: 1.3000000000000005\n",
      "T: 1.3500000000000005\n",
      "T: 1.4000000000000006\n",
      "T: 1.4500000000000006\n",
      "T: 1.5000000000000007\n",
      "T: 1.5500000000000007\n",
      "T: 1.6000000000000008\n",
      "T: 1.6500000000000008\n",
      "T: 1.7000000000000008\n",
      "T: 1.7500000000000009\n",
      "T: 1.800000000000001\n",
      "T: 1.850000000000001\n",
      "T: 1.900000000000001\n",
      "T: 1.950000000000001\n",
      "T: 2.000000000000001\n",
      "T: 2.0500000000000007\n",
      "T: 2.1000000000000005\n",
      "T: 2.1500000000000004\n",
      "T: 2.2\n",
      "T: 2.25\n",
      "T: 2.3\n",
      "T: 2.3499999999999996\n",
      "T: 2.3999999999999995\n",
      "T: 2.4499999999999993\n",
      "T: 2.499999999999999\n",
      "T: 2.549999999999999\n",
      "T: 2.5999999999999988\n",
      "T: 2.6499999999999986\n",
      "T: 2.6999999999999984\n",
      "T: 2.7499999999999982\n",
      "T: 2.799999999999998\n",
      "T: 2.849999999999998\n",
      "T: 2.8999999999999977\n",
      "T: 2.9499999999999975\n",
      "T: 2.9999999999999973\n",
      "T: 3.049999999999997\n",
      "T: 3.099999999999997\n",
      "T: 3.149999999999997\n",
      "T: 3.1999999999999966\n",
      "T: 3.2499999999999964\n",
      "T: 3.2999999999999963\n",
      "T: 3.349999999999996\n"
     ]
    }
   ],
   "source": [
    "#init lattice\n",
    "size = 10 #was 50\n",
    "lat = initLattice(size,False) #lattice starts at high T (randomized)\n",
    "\n",
    "#Now perform metropolois over a quasi-static temperature sweep \n",
    "#T = 0.01, iters = 40000\n",
    "T = 0.1\n",
    "\n",
    "mPlot = []\n",
    "\n",
    "for i in np.arange(0,65):\n",
    "    mOut = MetropolisALL(lat, T, 1000000)\n",
    "    mPlot = np.append(mPlot, mOut)\n",
    "    T += 0.05\n",
    "    print(\"T: %s\" % T)"
   ]
  },
  {
   "cell_type": "code",
   "execution_count": 429,
   "metadata": {},
   "outputs": [
    {
     "data": {
      "image/png": "[encoded data removed]",
      "text/plain": [
       "<Figure size 640x480 with 1 Axes>"
      ]
     },
     "metadata": {},
     "output_type": "display_data"
    }
   ],
   "source": [
    "\n",
    "plt.plot(np.arange(0,mPlot.size), mPlot)\n",
    "plt.xlim(20,50)\n",
    "plt.show()\n",
    "#plt.savefig(\"MfuncofStep134min.png\", dpi=300, format=\"png\")"
   ]
  },
  {
   "cell_type": "code",
   "execution_count": 415,
   "metadata": {},
   "outputs": [],
   "source": [
    "\n",
    "def MetropolisALL(lattice, initTemp, iterations):\n",
    "    '''\n",
    "    Metropolis acts on a lattice passed in and does NOT initialize each time. Therefore\n",
    "    there is no need to wait for thermalization from hot start each time\n",
    "    '''\n",
    "    #store m in array\n",
    "    mArr = np.array([])\n",
    "    mArrAvg = np.array([])\n",
    "\n",
    "    for iter in range(iterations):\n",
    "\n",
    "        if((iter % 50 == 0) and (iter != 0)): #measure every ten complete Metropolis rasters\n",
    "            m = 0\n",
    "            for x in range(lattice[0].size):\n",
    "                for y in range(lattice[0].size):\n",
    "                    m += lattice[x][y]\n",
    "            m = m / np.power(lattice[0].size,2)\n",
    "            mArr = np.append(mArr,m)\n",
    "\n",
    "        #calc Ediff for ALL sites\n",
    "        for i in range(lattice[0].size):\n",
    "            for j in range(lattice[0].size):\n",
    "                Ediff = deltaU(i,j,lattice)\n",
    "                #Metropolis to decide whether site should be flipped.\n",
    "                if(Ediff <= 0):\n",
    "                    lattice[i][j] = -lattice[i][j] \n",
    "                else:\n",
    "                    #now only flip site according to Boltzmann factor\n",
    "                    boltzmannRandom = random.uniform(0,1)\n",
    "                    if(boltzmannRandom < np.exp(-Ediff/initTemp)):\n",
    "                        lattice[i][j] = -lattice[i][j]\n",
    "\n",
    "\n",
    "    mAvg = sum(mArr) / mArr.size\n",
    "    return mAvg\n",
    "\n"
   ]
  },
  {
   "cell_type": "code",
   "execution_count": null,
   "metadata": {},
   "outputs": [],
   "source": []
  },
  {
   "cell_type": "code",
   "execution_count": null,
   "metadata": {},
   "outputs": [],
   "source": []
  }
 ],
 "metadata": {
  "kernelspec": {
   "display_name": "Python 3",
   "language": "python",
   "name": "python3"
  },
  "language_info": {
   "codemirror_mode": {
    "name": "ipython",
    "version": 3
   },
   "file_extension": ".py",
   "mimetype": "text/x-python",
   "name": "python",
   "nbconvert_exporter": "python",
   "pygments_lexer": "ipython3",
   "version": "3.12.1"
  }
 },
 "nbformat": 4,
 "nbformat_minor": 2
}
