{
 "cells": [
  {
   "cell_type": "markdown",
   "metadata": {},
   "source": [
    "# A First Attempt on Simulating 2D Phi-4 Lattice"
   ]
  },
  {
   "cell_type": "markdown",
   "metadata": {},
   "source": [
    "A derivation of the discretized action and Wick rotation is developed in my brown notebook. However, my result does not agree with Schaich 2006, namely because when I discretize the derivatives, I end up with a spacing of $2a$ which makes things weird with periodic boundary conditions."
   ]
  },
  {
   "cell_type": "markdown",
   "metadata": {},
   "source": [
    "### Imports"
   ]
  },
  {
   "cell_type": "code",
   "execution_count": 1,
   "metadata": {},
   "outputs": [],
   "source": [
    "#imports \n",
    "import numpy as np\n",
    "import random\n",
    "import matplotlib.pyplot as plt\n",
    "from scipy import interpolate\n",
    "from scipy import optimize\n",
    "import json\n",
    "import copy\n",
    "from scipy.optimize import curve_fit\n",
    "import math\n",
    "from scipy import fft"
   ]
  },
  {
   "cell_type": "code",
   "execution_count": null,
   "metadata": {},
   "outputs": [],
   "source": []
  },
  {
   "cell_type": "markdown",
   "metadata": {},
   "source": [
    "### Lattice algos"
   ]
  },
  {
   "cell_type": "code",
   "execution_count": 195,
   "metadata": {},
   "outputs": [],
   "source": [
    "def initLattice(latticeSize: int) -> list[list[int]]:\n",
    "    lattice = np.zeros((latticeSize, latticeSize))\n",
    "    for i in range(latticeSize):\n",
    "        for j in range(latticeSize):\n",
    "            #pick a random spin\n",
    "            spin = 0\n",
    "            randomFloat = np.random.uniform(-2,2)\n",
    "            spin = randomFloat\n",
    "            #set lattice site equal to the random spin    \n",
    "            lattice[i][j] = spin\n",
    "    \n",
    "    return lattice"
   ]
  },
  {
   "cell_type": "code",
   "execution_count": 196,
   "metadata": {},
   "outputs": [
    {
     "data": {
      "text/plain": [
       "array([[-1.3243618 ,  1.59456067,  1.83115901, -0.72849   ,  0.49980652],\n",
       "       [-0.1830821 , -1.12076254,  0.68995985,  1.68873118,  0.19754538],\n",
       "       [ 0.78279579,  1.72712483,  1.54833084, -1.7657272 , -1.38026301],\n",
       "       [ 0.35344903, -1.02936009,  1.32351807, -1.23543764, -0.98749955],\n",
       "       [-0.94185321, -1.80634003,  1.08627079, -1.77971279,  1.70904184]])"
      ]
     },
     "execution_count": 196,
     "metadata": {},
     "output_type": "execute_result"
    }
   ],
   "source": [
    "lat = initLattice(5)\n",
    "lat"
   ]
  },
  {
   "cell_type": "markdown",
   "metadata": {},
   "source": [
    "$S_E = \\frac{1}{8} \\sum_{i,j} \\left( 4\\phi^2(i,j) - 2\\phi(i,j)\\phi(i,j+2) - 2\\phi(i,j)\\phi(i+2,j) \\right) + \\sum_{i,j} \\frac{1}{2} \\mu_L^2 \\phi^2(i,j) + \\frac{\\lambda_L}{4}\\phi^4(i,j)$"
   ]
  },
  {
   "cell_type": "code",
   "execution_count": 933,
   "metadata": {},
   "outputs": [],
   "source": [
    "# Use the Euclidean action as an energy to use for Metropolis\n",
    "def deltaU(i: int, j: int, lattice: list, lamb: float, mu2: float) -> tuple[float,float]:\n",
    "    '''\n",
    "    After the Wick rotation, the Euclidean action fills the role of energy for Phi-4\n",
    "    Here, we implement the Euclidean action as derived by myself as opposed to David's solution.\n",
    "\n",
    "    Recall, Phi is just the value of the lattice site [-2,2). In Ising it was either -1 or 1. \n",
    "    '''\n",
    "\n",
    "    size = len(lattice)\n",
    "    # If site is in an edge, apply periodic boundary conditions\n",
    "    if(i == 0):\n",
    "        top = lattice[size-1,j]\n",
    "    else:\n",
    "        top = lattice[i-1][j]\n",
    "    if(i == size-1):\n",
    "        bottom = lattice[0][j]\n",
    "    else:\n",
    "        bottom = lattice[i+1][j]\n",
    "    if(j == 0):\n",
    "        left = lattice[i][size-1]\n",
    "    else:\n",
    "        left = lattice[i][j-1]\n",
    "    if(j == size-1):\n",
    "        right = lattice[i][0]\n",
    "    else:\n",
    "        right = lattice[i][j+1]\n",
    "\n",
    "    #I should change the periodic BC to be more robust such that i just take the mod of the lattice length\n",
    "\n",
    "    muL2 = mu2\n",
    "    lamL = lamb\n",
    "\n",
    "    phiIJ = lattice[i][j]\n",
    "    #print(lattice)\n",
    "    #actionStateOne = (1/2)*np.power(phiIJ,2) - (1/4)*lattice[i][j-1]*lattice[i][j+1] - (1/4)*lattice[i-1][j]*lattice[i+1][j] + (1/2)*muL*muL*np.power(phiIJ,2) + (lamL/4)*np.power(phiIJ,4) \n",
    "    actionStateOne = (1/2)*np.power(phiIJ,2) - (1/4)*left*right - (1/4)*top*bottom + (1/2)*muL2*np.power(phiIJ,2) + (lamL/4)*np.power(phiIJ,4) \n",
    "    #YO I EDIFF FOR THE ISING MODEL I ONLY CHECK NEIGHBORING SITES??? THIS IS NOT THE CORRECT HAMILTONIAN??? THIS IS JUST A PEICE? HOW DOES THIS RELATE TO THE ACTION\n",
    "\n",
    "    #now change the latice site and recalculate\n",
    "    newLattice = copy.deepcopy(lattice)\n",
    "    randomFloat = np.random.uniform(-2,2)\n",
    "    newLattice[i][j] = randomFloat\n",
    "    #print()\n",
    "    #print(newLattice)\n",
    "    #print()\n",
    "    #print(lattice)\n",
    "    newPhiIJ = newLattice[i][j]\n",
    "    actionStateTwo = (1/2)*np.power(newPhiIJ,2) - (1/4)*left*right - (1/4)*top*bottom + (1/2)*muL2*np.power(newPhiIJ,2) + (lamL/4)*np.power(newPhiIJ,4) \n",
    "\n",
    "    #now calculate the energy difference\n",
    "    #Ediff = 2*lattice[i][j]*(top+bottom+left+right)\n",
    "    \n",
    "     #need to think about double couning and that factor of 2\n",
    "    Ediff = actionStateTwo - actionStateOne #''the most negative Ediff is most negative two and most positive one'''\n",
    "    #return Ediff\n",
    "    #return (Ediff,newPhiIJ)\n",
    "    return (Ediff,randomFloat)"
   ]
  },
  {
   "cell_type": "markdown",
   "metadata": {},
   "source": [
    "$S_E = -\\sum_{\\langle ij \\rangle} \\phi_i \\phi_j + \\sum_n \\left[ \\left( 2+\\frac{1}{2}\\mu_0^2 \\right) \\phi_n^2 + \\frac{\\lambda}{4}\\phi_n^4  \\right] $"
   ]
  },
  {
   "cell_type": "code",
   "execution_count": 974,
   "metadata": {},
   "outputs": [],
   "source": [
    "# Use the Euclidean action as an energy to use for Metropolis\n",
    "def deltaUSCHAICH(i: int, j: int, lattice: list, lamb: float, mu2: float) -> tuple[float,float]:\n",
    "    '''\n",
    "    After the Wick rotation, the Euclidean action fills the role of energy for Phi-4\n",
    "    Here, we implement the Euclidean action as derived by myself as opposed to David's solution.\n",
    "\n",
    "    Recall, Phi is just the value of the lattice site [-2,2). In Ising it was either -1 or 1. \n",
    "    '''\n",
    "\n",
    "    size = len(lattice)\n",
    "    # If site is in an edge, apply periodic boundary conditions\n",
    "    if(i == 0):\n",
    "        top = lattice[size-1,j]\n",
    "    else:\n",
    "        top = lattice[i-1][j]\n",
    "    if(i == size-1):\n",
    "        bottom = lattice[0][j]\n",
    "    else:\n",
    "        bottom = lattice[i+1][j]\n",
    "    if(j == 0):\n",
    "        left = lattice[i][size-1]\n",
    "    else:\n",
    "        left = lattice[i][j-1]\n",
    "    if(j == size-1):\n",
    "        right = lattice[i][0]\n",
    "    else:\n",
    "        right = lattice[i][j+1]\n",
    "\n",
    "    muL2 = mu2\n",
    "    lamL = lamb\n",
    "\n",
    "    phiIJ = lattice[i][j]\n",
    "    #print(lattice)\n",
    "\n",
    "\n",
    "    #for now just drop the sums which is clearly wrong but HOW ELSE??? AHAHHSHAHAHAHHAHHA IM MISSING THE SUMM!!!!!!!\n",
    "    actionStateOne = -phiIJ*(top+bottom+left+right) + (2+((muL2)/(2)))*np.power(phiIJ,2) + ((lamL)/(4))*np.power(phiIJ,4)\n",
    "    \n",
    "\n",
    "    #now change the latice site and recalculate\n",
    "    newLattice = copy.deepcopy(lattice)\n",
    "    randomFloat = np.random.uniform(-2,2)\n",
    "    newLattice[i][j] = randomFloat\n",
    "    #print()\n",
    "    #print(newLattice)\n",
    "    #print()\n",
    "    #print(lattice)\n",
    "    newPhiIJ = newLattice[i][j]\n",
    "    actionStateTwo = -newPhiIJ*(top+bottom+left+right) + (2+((muL2)/(2)))*np.power(newPhiIJ,2) + ((lamL)/(4))*np.power(newPhiIJ,4) \n",
    "\n",
    "    #now calculate the energy difference\n",
    "    #Ediff = 2*lattice[i][j]*(top+bottom+left+right)\n",
    "    \n",
    "     #need to think about double couning and that factor of 2\n",
    "    Ediff = actionStateTwo - actionStateOne #''the most negative Ediff is most negative two and most positive one'''\n",
    "    #return Ediff\n",
    "    #return (Ediff,newPhiIJ)\n",
    "    return (Ediff,randomFloat)"
   ]
  },
  {
   "cell_type": "code",
   "execution_count": 350,
   "metadata": {},
   "outputs": [],
   "source": [
    "#net zero is symmetric phase"
   ]
  },
  {
   "cell_type": "code",
   "execution_count": 733,
   "metadata": {},
   "outputs": [
    {
     "ename": "KeyboardInterrupt",
     "evalue": "",
     "output_type": "error",
     "traceback": [
      "\u001b[0;31m---------------------------------------------------------------------------\u001b[0m",
      "\u001b[0;31mKeyboardInterrupt\u001b[0m                         Traceback (most recent call last)",
      "Cell \u001b[0;32mIn[733], line 7\u001b[0m\n\u001b[1;32m      5\u001b[0m     \u001b[38;5;28;01mif\u001b[39;00m curEd \u001b[38;5;241m<\u001b[39m minEd:\n\u001b[1;32m      6\u001b[0m         minEd \u001b[38;5;241m=\u001b[39m curEd\n\u001b[0;32m----> 7\u001b[0m     lat \u001b[38;5;241m=\u001b[39m \u001b[43minitLattice\u001b[49m\u001b[43m(\u001b[49m\u001b[38;5;241;43m100\u001b[39;49m\u001b[43m)\u001b[49m\n\u001b[1;32m      9\u001b[0m \u001b[38;5;28mprint\u001b[39m(minEd)\n",
      "Cell \u001b[0;32mIn[195], line 7\u001b[0m, in \u001b[0;36minitLattice\u001b[0;34m(latticeSize)\u001b[0m\n\u001b[1;32m      4\u001b[0m \u001b[38;5;28;01mfor\u001b[39;00m j \u001b[38;5;129;01min\u001b[39;00m \u001b[38;5;28mrange\u001b[39m(latticeSize):\n\u001b[1;32m      5\u001b[0m     \u001b[38;5;66;03m#pick a random spin\u001b[39;00m\n\u001b[1;32m      6\u001b[0m     spin \u001b[38;5;241m=\u001b[39m \u001b[38;5;241m0\u001b[39m\n\u001b[0;32m----> 7\u001b[0m     randomFloat \u001b[38;5;241m=\u001b[39m \u001b[43mnp\u001b[49m\u001b[38;5;241;43m.\u001b[39;49m\u001b[43mrandom\u001b[49m\u001b[38;5;241;43m.\u001b[39;49m\u001b[43muniform\u001b[49m\u001b[43m(\u001b[49m\u001b[38;5;241;43m-\u001b[39;49m\u001b[38;5;241;43m2\u001b[39;49m\u001b[43m,\u001b[49m\u001b[38;5;241;43m2\u001b[39;49m\u001b[43m)\u001b[49m\n\u001b[1;32m      8\u001b[0m     spin \u001b[38;5;241m=\u001b[39m randomFloat\n\u001b[1;32m      9\u001b[0m     \u001b[38;5;66;03m#set lattice site equal to the random spin    \u001b[39;00m\n",
      "\u001b[0;31mKeyboardInterrupt\u001b[0m: "
     ]
    }
   ],
   "source": [
    "lat = initLattice(5) #5: -403.95950916467325 (404 is prob the number?) 10: same? 20:\n",
    "minEd = 0\n",
    "for i in range(100000):\n",
    "    curEd = deltaU(2,2,lat)\n",
    "    if curEd < minEd:\n",
    "        minEd = curEd\n",
    "    lat = initLattice(5)\n",
    "\n",
    "print(minEd)"
   ]
  },
  {
   "cell_type": "code",
   "execution_count": 666,
   "metadata": {},
   "outputs": [
    {
     "name": "stdout",
     "output_type": "stream",
     "text": [
      "[[-1.97527814 -1.0846589   0.78776906  1.75745415  1.8930952 ]\n",
      " [ 1.65800715 -0.70825064  0.89656892  0.87925794 -0.68991455]\n",
      " [-1.75808955 -1.69833184  0.32344407 -1.44032367 -0.07809837]\n",
      " [-1.40934192  0.88509748 -1.16074081  1.33343083  0.13116275]\n",
      " [-1.46220328  1.78966746  0.03264618 -0.95736373 -0.58958585]]\n",
      "\n",
      "[[-1.97527814 -1.0846589   0.78776906  1.75745415  1.8930952 ]\n",
      " [ 1.65800715 -0.70825064  0.89656892  0.87925794 -0.68991455]\n",
      " [-1.75808955 -1.69833184 -0.24418014 -1.44032367 -0.07809837]\n",
      " [-1.40934192  0.88509748 -1.16074081  1.33343083  0.13116275]\n",
      " [-1.46220328  1.78966746  0.03264618 -0.95736373 -0.58958585]]\n",
      "\n",
      "[[-1.97527814 -1.0846589   0.78776906  1.75745415  1.8930952 ]\n",
      " [ 1.65800715 -0.70825064  0.89656892  0.87925794 -0.68991455]\n",
      " [-1.75808955 -1.69833184  0.32344407 -1.44032367 -0.07809837]\n",
      " [-1.40934192  0.88509748 -1.16074081  1.33343083  0.13116275]\n",
      " [-1.46220328  1.78966746  0.03264618 -0.95736373 -0.58958585]]\n",
      "[[-1.97527814 -1.0846589   0.78776906  1.75745415  1.8930952 ]\n",
      " [ 1.65800715 -0.70825064  0.89656892  0.87925794 -0.68991455]\n",
      " [-1.75808955 -1.69833184  0.32344407 -1.44032367 -0.07809837]\n",
      " [-1.40934192  0.88509748 -1.16074081  1.33343083  0.13116275]\n",
      " [-1.46220328  1.78966746  0.03264618 -0.95736373 -0.58958585]]\n",
      "-0.2297298064325476\n",
      "1.2582599902404343\n"
     ]
    }
   ],
   "source": [
    "lat = initLattice(5)\n",
    "res = deltaU(2,2,lat)\n",
    "while res >= 0:\n",
    "    lat = initLattice(5)\n",
    "    res = deltaU(2,2,lat)\n",
    "\n",
    "print(lat)\n",
    "print(res)\n",
    "print(np.exp(-res))"
   ]
  },
  {
   "cell_type": "code",
   "execution_count": 778,
   "metadata": {},
   "outputs": [
    {
     "name": "stdout",
     "output_type": "stream",
     "text": [
      "[[-1.80834615 -1.27419834  1.63128664  1.83368327 -1.96659812]\n",
      " [-0.31347942 -0.85963377 -0.67636316 -1.3790941   0.33844964]\n",
      " [-0.53967207  0.21550061 -1.85492347 -0.31610414 -1.89531824]\n",
      " [-1.9947254   1.71552365  0.28839884 -1.45579478 -0.82746035]\n",
      " [-1.99841426 -1.77042505 -0.3143757  -0.13784391  1.38685506]]\n",
      "-1.8549234730483666\n"
     ]
    }
   ],
   "source": [
    "lat = initLattice(5)\n",
    "print(lat)\n",
    "deltaU(2,2,lat)\n",
    "print(lat[2][2])"
   ]
  },
  {
   "cell_type": "code",
   "execution_count": 934,
   "metadata": {},
   "outputs": [],
   "source": [
    "def Metropolis(lattice, iterations, lamb , mu2):\n",
    "    for iteration in range(iterations):\n",
    "        i = random.randint(0,len(lattice[0])-1)\n",
    "        j = random.randint(0,len(lattice[0])-1)\n",
    "        #print(i,j)\n",
    "        deltaUResult = deltaU(i,j,lattice,lamb, mu2)\n",
    "        Ediff = deltaUResult[0]\n",
    "        newSpin = deltaUResult[1]\n",
    "        #Metropolis to decide whether site should be flipped.\n",
    "        if(Ediff <= 0):\n",
    "            lattice[i][j] = newSpin\n",
    "            #print(\"FLIPPED\")\n",
    "        else:\n",
    "            #now only flip site according to Boltzmann factor IS THIS STILL THE CORRECT WEIGHTING????\n",
    "            '''The Boltzmann factor gives the probability of flipping the site if Ediff > 0. \n",
    "                However, e^-U/kT becamse e^-S which is strictly positive. But now S can be <0 such that e^-S > 1. Need to think of a way to normalize this to [0,1]\n",
    "                Divide by max value in image of e^-S? (when S is minimized) Skews other probs down? Is the minimum action the vacuum state? Proof?'''\n",
    "            boltzmannRandom = random.uniform(0,1)\n",
    "            if(boltzmannRandom < np.exp(-Ediff)): #WRONG:(Ediff must be positive so exponential is between 0 and 1) # get rid of temperature (just action)\n",
    "                lattice[i][j] = newSpin\n",
    "                #print(\"ELSE FLIP\")"
   ]
  },
  {
   "cell_type": "code",
   "execution_count": 975,
   "metadata": {},
   "outputs": [],
   "source": [
    "def MetropolisSCHAICH(lattice, iterations, lamb , mu2):\n",
    "    for iteration in range(iterations):\n",
    "        i = random.randint(0,len(lattice[0])-1)\n",
    "        j = random.randint(0,len(lattice[0])-1)\n",
    "        #print(i,j)\n",
    "        deltaUResult = deltaUSCHAICH(i,j,lattice,lamb, mu2)\n",
    "        Ediff = deltaUResult[0]\n",
    "        newSpin = deltaUResult[1]\n",
    "        #Metropolis to decide whether site should be flipped.\n",
    "        if(Ediff <= 0):\n",
    "            lattice[i][j] = newSpin\n",
    "            #print(\"FLIPPED\")\n",
    "        else:\n",
    "            #now only flip site according to Boltzmann factor IS THIS STILL THE CORRECT WEIGHTING????\n",
    "            '''The Boltzmann factor gives the probability of flipping the site if Ediff > 0. \n",
    "                However, e^-U/kT becamse e^-S which is strictly positive. But now S can be <0 such that e^-S > 1. Need to think of a way to normalize this to [0,1]\n",
    "                Divide by max value in image of e^-S? (when S is minimized) Skews other probs down? Is the minimum action the vacuum state? Proof?'''\n",
    "            boltzmannRandom = random.uniform(0,1)\n",
    "            if(boltzmannRandom < np.exp(-Ediff)): #WRONG:(Ediff must be positive so exponential is between 0 and 1) # get rid of temperature (just action)\n",
    "                lattice[i][j] = newSpin\n",
    "                #print(\"ELSE FLIP\")"
   ]
  },
  {
   "cell_type": "markdown",
   "metadata": {},
   "source": [
    "might make sense to try this same thing on the Ising code"
   ]
  },
  {
   "cell_type": "code",
   "execution_count": 884,
   "metadata": {},
   "outputs": [
    {
     "name": "stdout",
     "output_type": "stream",
     "text": [
      "[[ 1.15184219  1.85548915 -1.33876651  1.3860548  -0.75329666]\n",
      " [ 1.99266029  1.85133329 -1.34786711  1.83733024 -1.06346774]\n",
      " [ 1.77648434 -1.95083604  0.34856971 -0.0436253   0.61454448]\n",
      " [-0.81413107  1.91782895 -0.94048878 -1.49177371 -1.52762357]\n",
      " [-0.97375053  0.2476349   1.84555389 -0.23338358 -0.42423528]]\n",
      "2 3\n",
      "ELSE FLIP\n",
      "\n",
      "[[ 1.15184219  1.85548915 -1.33876651  1.3860548  -0.75329666]\n",
      " [ 1.99266029  1.85133329 -1.34786711  1.83733024 -1.06346774]\n",
      " [ 1.77648434 -1.95083604  0.34856971  0.15867883  0.61454448]\n",
      " [-0.81413107  1.91782895 -0.94048878 -1.49177371 -1.52762357]\n",
      " [-0.97375053  0.2476349   1.84555389 -0.23338358 -0.42423528]]\n"
     ]
    }
   ],
   "source": [
    "lat = initLattice(5)\n",
    "print(lat)\n",
    "Metropolis(lat,1)\n",
    "print()\n",
    "print(lat)"
   ]
  },
  {
   "cell_type": "markdown",
   "metadata": {},
   "source": [
    "Before the \"temperature\" was a factor weigting the Metropolis update. Now, it is a parameter in the energy effecting the deltaU update."
   ]
  },
  {
   "cell_type": "code",
   "execution_count": 754,
   "metadata": {},
   "outputs": [
    {
     "name": "stdout",
     "output_type": "stream",
     "text": [
      "-0.22380322151823395\n",
      "0.04097919051677551\n",
      "0.0034131612958563907\n",
      "0.03659363764459081\n",
      "-0.02154019640188451\n",
      "-0.008427471112362599\n",
      "-0.04161598608459049\n",
      "0.021467102503712178\n",
      "0.01110495966831853\n",
      "-0.03627889748162286\n",
      "0.05558775642596967\n",
      "-0.014144469627130993\n",
      "0.017477288241421928\n",
      "-0.006899719111675738\n",
      "0.008965779429749951\n",
      "0.034695350365783924\n",
      "-0.015147105099560831\n",
      "-0.05064111565373649\n",
      "0.0344701759900601\n",
      "0.027005086085416137\n",
      "0.009472225035848183\n",
      "-0.03205593873484882\n",
      "-0.017627906143430464\n",
      "0.01874550884999918\n",
      "0.034055640357775224\n",
      "-0.03256889460473894\n",
      "-0.025738145057890658\n",
      "-0.00014111153746463768\n",
      "-0.00018682181892529126\n",
      "-0.02109793387671596\n",
      "0.010167212635128133\n",
      "0.007087547289528171\n",
      "-0.052290770209943764\n",
      "-0.012813858748206166\n",
      "0.01305899627173162\n",
      "0.02198777181500585\n",
      "0.006085024392862963\n",
      "-0.005239640967984185\n",
      "-0.024284590888579413\n",
      "0.05989868721372424\n",
      "-0.01939908391222277\n",
      "-0.015108345999636659\n",
      "0.03218680350426716\n",
      "0.00422095437232155\n",
      "0.009515061234827576\n",
      "0.028426129584204637\n",
      "0.0004296910498019324\n",
      "-0.013755327328928093\n",
      "0.005024548532712147\n",
      "0.037926720085471835\n",
      "-0.019429588230404464\n",
      "0.0064674908992951785\n",
      "0.015832588179919452\n",
      "-0.0014796040348609419\n",
      "0.027345062319147975\n",
      "0.002004230431408387\n",
      "0.00664385034167978\n",
      "0.06456678424931005\n",
      "-0.0007314507940136528\n",
      "-0.012486185791201913\n",
      "0.0012587274943380278\n",
      "0.030071313263269263\n",
      "-0.004113873516750397\n",
      "-0.020370131784313378\n",
      "-0.014494304835577693\n",
      "0.016959399659182042\n",
      "0.019663536187635902\n",
      "0.020029818736013363\n",
      "-0.025651287946640986\n",
      "0.021650632414869773\n",
      "-0.006451530209617022\n",
      "0.036693465989601014\n",
      "-0.014142247658418223\n",
      "-0.029936926745204276\n",
      "-0.03653768845075198\n",
      "0.02613277811013892\n",
      "0.04205217363997644\n",
      "0.030589570397001095\n",
      "0.03276856454485077\n",
      "0.001096673433755435\n",
      "-0.016995440821587687\n",
      "0.02469450839905139\n",
      "-0.030325325755184766\n",
      "-0.004465621077520367\n",
      "-0.019953396396488066\n",
      "-0.031503942578665296\n",
      "0.03397355527922055\n",
      "-0.02297843725638162\n",
      "0.0433876793458276\n",
      "-0.0025351940287399533\n",
      "-0.0957188558772851\n",
      "0.0026886812345791\n",
      "0.0010126993426677977\n",
      "0.053636685842537994\n",
      "0.021837100803990723\n",
      "0.008976770861776222\n",
      "-0.0015792756863997326\n",
      "0.013539823074981219\n",
      "0.018988604737255388\n",
      "0.05553637824027323\n"
     ]
    }
   ],
   "source": [
    "#lattice starts in symmetric phase (random float is picked for a float)\n",
    "size = 10\n",
    "lat = initLattice(size)\n",
    "\n",
    "iters = 100\n",
    "for i in range(iters):\n",
    "    sum = 0\n",
    "    for i in range(size):\n",
    "        for j in range(size):\n",
    "            sum += lat[i][j]\n",
    "    print(sum/(size*size))\n",
    "\n",
    "    #update lattice with metropolis\n",
    "    Metropolis(lat,10000) #ADD A PARAMETER FOR LAMBDA INTO METROPOLIS AND FEED IT INTO DELTAU!!!!!!"
   ]
  },
  {
   "cell_type": "code",
   "execution_count": 935,
   "metadata": {},
   "outputs": [],
   "source": [
    "#removed temp\n",
    "def calcMagArr(lattice,iterations, lamb , mu2):\n",
    "    mArr = []\n",
    "    for iteration in range(iterations):\n",
    "        Metropolis(lattice, iterations,lamb,mu2)\n",
    "        if(iteration % 10 ==  0): #was 99, but could make this sooner if autocor allows for it. (think about wolff? ahhhh)\n",
    "            sum = 0\n",
    "            for xSite in range(len(lattice[0])):\n",
    "                for ySite in range(len(lattice[0])):\n",
    "                    sum += lattice[xSite][ySite]\n",
    "            mArr.append(abs(sum)) \n",
    "    \n",
    "    return mArr"
   ]
  },
  {
   "cell_type": "code",
   "execution_count": 976,
   "metadata": {},
   "outputs": [],
   "source": [
    "#removed temp\n",
    "def calcMagArrSCHAICH(lattice,iterations, lamb , mu2):\n",
    "    mArr = []\n",
    "    for iteration in range(iterations):\n",
    "        MetropolisSCHAICH(lattice, iterations,lamb,mu2)\n",
    "        if(iteration % 10 ==  0): #was 99, but could make this sooner if autocor allows for it. (think about wolff? ahhhh)\n",
    "            sum = 0\n",
    "            for xSite in range(len(lattice[0])):\n",
    "                for ySite in range(len(lattice[0])):\n",
    "                    sum += lattice[xSite][ySite]\n",
    "            mArr.append(abs(sum)) \n",
    "    \n",
    "    return mArr"
   ]
  },
  {
   "cell_type": "code",
   "execution_count": 958,
   "metadata": {},
   "outputs": [
    {
     "data": {
      "text/plain": [
       "[36.08228707904815,\n",
       " 28.06832384768776,\n",
       " 38.65529092314673,\n",
       " 27.64404099485065,\n",
       " 44.053206676984054,\n",
       " 27.459868671023226,\n",
       " 41.52719219338922,\n",
       " 40.5810846862447,\n",
       " 36.16189086997071,\n",
       " 29.969224910240033,\n",
       " 36.71400462594524,\n",
       " 33.23387200808077,\n",
       " 35.64370256924853,\n",
       " 35.11544450128085,\n",
       " 33.94461591428578,\n",
       " 29.528645782145578,\n",
       " 32.472125434214355,\n",
       " 30.48627642208533,\n",
       " 30.909939273820637,\n",
       " 28.968594847152282,\n",
       " 35.57528649979465,\n",
       " 33.28829264825145,\n",
       " 32.745602623629935,\n",
       " 32.011860613714816,\n",
       " 35.370024717406515,\n",
       " 25.955046053537917,\n",
       " 30.123704204002323,\n",
       " 35.22433380834508,\n",
       " 34.16013671000476,\n",
       " 30.944108959765007,\n",
       " 33.33447141412957,\n",
       " 31.06755956041606,\n",
       " 32.031653774406045,\n",
       " 32.486904724305916,\n",
       " 30.1427672208346,\n",
       " 28.320524997027693,\n",
       " 29.305967733716592,\n",
       " 32.39552376420061,\n",
       " 32.45223762375053,\n",
       " 33.19321454601115,\n",
       " 28.132007571350062,\n",
       " 30.256743650911552,\n",
       " 29.227894764343898,\n",
       " 31.132229007249524,\n",
       " 23.91967167103592,\n",
       " 24.244341260598357,\n",
       " 22.223041897385407,\n",
       " 18.77702190453963,\n",
       " 14.506760962432727,\n",
       " 14.49842094909009,\n",
       " 11.598392473026879,\n",
       " 9.654445347637687,\n",
       " 7.606481255932741,\n",
       " 7.04453090117365,\n",
       " 6.784388963524891,\n",
       " 6.9208275008080395,\n",
       " 5.320361368728457,\n",
       " 5.216404297192055,\n",
       " 5.411659444846818,\n",
       " 5.2448809308699404,\n",
       " 4.316477757344077,\n",
       " 4.436938757962599,\n",
       " 5.250620130750217,\n",
       " 4.038105242116259,\n",
       " 4.042445221097597,\n",
       " 4.086578698908871,\n",
       " 3.451540327714097,\n",
       " 3.5413124495469583,\n",
       " 3.9194542956130207,\n",
       " 3.65177837313118]"
      ]
     },
     "execution_count": 958,
     "metadata": {},
     "output_type": "execute_result"
    }
   ],
   "source": [
    "lat = initLattice(20)\n",
    "avgArr = []\n",
    "lam = 1\n",
    "muRange = np.arange(-50,20)\n",
    "for mu in muRange:\n",
    "    mArr = calcMagArr(lat,1000, lam, mu)\n",
    "    avgArr.append(np.average(mArr))\n",
    "\n",
    "avgArr"
   ]
  },
  {
   "cell_type": "code",
   "execution_count": 959,
   "metadata": {},
   "outputs": [
    {
     "name": "stderr",
     "output_type": "stream",
     "text": [
      "<>:2: SyntaxWarning: invalid escape sequence '\\m'\n",
      "<>:2: SyntaxWarning: invalid escape sequence '\\m'\n",
      "/var/folders/tf/m_q5jhc978j5bnsvc9p4163h0000gn/T/ipykernel_28130/1014262249.py:2: SyntaxWarning: invalid escape sequence '\\m'\n",
      "  plt.xlabel(\"$\\mu^2$ with $\\lambda=1$\")\n"
     ]
    },
    {
     "data": {
      "text/plain": [
       "Text(0, 0.5, '$m$')"
      ]
     },
     "execution_count": 959,
     "metadata": {},
     "output_type": "execute_result"
    },
    {
     "data": {
      "image/png": "[encoded data removed]",
      "text/plain": [
       "<Figure size 640x480 with 1 Axes>"
      ]
     },
     "metadata": {},
     "output_type": "display_data"
    }
   ],
   "source": [
    "plt.plot(muRange, avgArr)\n",
    "plt.xlabel(\"$\\mu^2$ with $\\lambda=1$\")\n",
    "plt.ylabel(\"$m$\")"
   ]
  },
  {
   "cell_type": "markdown",
   "metadata": {},
   "source": [
    "!!! This seems like strong evidence of a phase transition! I should overplot david schaich's method and see how they differ."
   ]
  },
  {
   "cell_type": "code",
   "execution_count": 988,
   "metadata": {},
   "outputs": [],
   "source": [
    "'''THE DAVID SCHAICH METHOD'''\n",
    "lat = initLattice(20)\n",
    "SchaichAvgArr7 = []\n",
    "lam = 0.5\n",
    "muRange = np.arange(-50,20)\n",
    "for mu in muRange:\n",
    "    SchaichmArr = calcMagArrSCHAICH(lat,1000, lam, mu)\n",
    "    SchaichAvgArr7.append(np.average(SchaichmArr))\n",
    "\n",
    "SchaichAvgArr7"
   ]
  },
  {
   "cell_type": "code",
   "execution_count": 986,
   "metadata": {},
   "outputs": [],
   "source": [
    "SchaichAvgArr=[302.7153632414202,\n",
    " 633.3774102061523,\n",
    " 795.3663315782791,\n",
    " 795.2664812956018,\n",
    " 795.3789890619728,\n",
    " 794.8613702426393,\n",
    " 795.1905383108405,\n",
    " 794.9568854659047,\n",
    " 794.62485429555,\n",
    " 794.4974711508477,\n",
    " 794.5573733700554,\n",
    " 794.4581654270623,\n",
    " 794.1757926332405,\n",
    " 793.8209888981532,\n",
    " 793.645135344345,\n",
    " 793.4758083564984,\n",
    " 793.1499486265573,\n",
    " 793.1648677619149,\n",
    " 792.7748135103072,\n",
    " 792.6384437057106,\n",
    " 792.282322181448,\n",
    " 792.0368694214551,\n",
    " 791.5025541308707,\n",
    " 791.0886757969015,\n",
    " 791.0501027672267,\n",
    " 790.3055941803805,\n",
    " 789.653823654387,\n",
    " 789.2993846200085,\n",
    " 788.6348832570787,\n",
    " 787.9564233843668,\n",
    " 787.2218667497779,\n",
    " 786.6105805771781,\n",
    " 785.6802725271849,\n",
    " 784.3658902532767,\n",
    " 783.1982805795742,\n",
    " 781.4993190219753,\n",
    " 779.9280447195983,\n",
    " 777.7870741427346,\n",
    " 775.5723106253631,\n",
    " 772.2296488424498,\n",
    " 767.9456027327853,\n",
    " 762.5380654117705,\n",
    " 755.0500557950024,\n",
    " 744.3710120963132,\n",
    " 729.24010963036,\n",
    " 706.659436109621,\n",
    " 668.6737119775405,\n",
    " 602.4452719467673,\n",
    " 475.9925534598773,\n",
    " 66.27099825372645,\n",
    " 17.724980120250684,\n",
    " 13.69676944724165,\n",
    " 11.501639327346338,\n",
    " 7.456031254053939,\n",
    " 7.9227197225198145,\n",
    " 6.728361378478013,\n",
    " 5.9057351088764305,\n",
    " 5.0936637743166076,\n",
    " 4.782129046219123,\n",
    " 5.3152969110690105,\n",
    " 5.702839669043471,\n",
    " 4.6113141051712,\n",
    " 3.914360347794874,\n",
    " 3.789422866369331,\n",
    " 4.163592665600832,\n",
    " 3.78168920140927,\n",
    " 4.034365116615603,\n",
    " 3.777804323175727,\n",
    " 3.4953052445624366,\n",
    " 3.399076436100533]"
   ]
  },
  {
   "cell_type": "markdown",
   "metadata": {},
   "source": [
    "TODO: CONTINUE THIS SERIES. THEN FIGURE OUT SUS. THEN RESOLVE ME AND SCHAICH DIFFERENCES"
   ]
  },
  {
   "cell_type": "code",
   "execution_count": 987,
   "metadata": {},
   "outputs": [
    {
     "name": "stderr",
     "output_type": "stream",
     "text": [
      "<>:3: SyntaxWarning: invalid escape sequence '\\m'\n",
      "<>:3: SyntaxWarning: invalid escape sequence '\\m'\n",
      "/var/folders/tf/m_q5jhc978j5bnsvc9p4163h0000gn/T/ipykernel_28130/940979400.py:3: SyntaxWarning: invalid escape sequence '\\m'\n",
      "  plt.xlabel(\"$\\mu^2$ with $\\lambda=1$\")\n"
     ]
    },
    {
     "data": {
      "text/plain": [
       "(-20.0, 10.0)"
      ]
     },
     "execution_count": 987,
     "metadata": {},
     "output_type": "execute_result"
    },
    {
     "data": {
      "image/png": "[encoded data removed]",
      "text/plain": [
       "<Figure size 640x480 with 1 Axes>"
      ]
     },
     "metadata": {},
     "output_type": "display_data"
    }
   ],
   "source": [
    "plt.plot(muRange, SchaichAvgArr)\n",
    "plt.plot(muRange, SchaichAvgArr7)\n",
    "plt.xlabel(\"$\\mu^2$ with $\\lambda=1$\")\n",
    "plt.ylabel(\"$m$\")\n",
    "plt.xlim(-20,10)"
   ]
  },
  {
   "cell_type": "code",
   "execution_count": null,
   "metadata": {},
   "outputs": [],
   "source": []
  },
  {
   "cell_type": "markdown",
   "metadata": {},
   "source": [
    "Funny plot of trying to recreate Ising model results. Clearly its meaningless (??) Maybe it should thermalize to somwhere at low temperatures?? At any rate it doesnt really matter since we are plotting neither the OP nor the CP.\n",
    "\n",
    "I need to find out how to calc vacuum expectation value and vary the critical coupling $\\frac{\\lambda}{\\mu^2}$"
   ]
  },
  {
   "cell_type": "markdown",
   "metadata": {},
   "source": []
  },
  {
   "cell_type": "markdown",
   "metadata": {},
   "source": [
    "OP: just like mag -- a sum of all lattice sites (normalized by number of sites if you want to) \\\n",
    "CP: 2d space -- fix one and sweep. this will make a curve"
   ]
  },
  {
   "cell_type": "markdown",
   "metadata": {},
   "source": []
  },
  {
   "cell_type": "markdown",
   "metadata": {},
   "source": [
    "Schaich, Loinaz, Willey seem to not generate this plot? One transition indicator used is susceptibility. THIS IS A ROUGH LATE NIGHT ATTEMPT. I need to look into what suscep. looks like if no temp exists?"
   ]
  },
  {
   "cell_type": "code",
   "execution_count": 965,
   "metadata": {},
   "outputs": [],
   "source": [
    "#Susceptibility function\n",
    "def calcSus(lattice, lamb, mu2):\n",
    "    m2Arr = []\n",
    "    magArr = calcMagArr(lattice, 1000, lamb, mu2) #already doing 10k iterations on the mag . . . and 10 on the BC call in plotting 1000000\n",
    "    m2Arr = [np.power(x,2) for x in magArr]\n",
    "    \n",
    "    avgm = np.average(magArr)\n",
    "    avgm2 = np.average(m2Arr)\n",
    "\n",
    "    sus = (avgm2 - np.power(avgm,2))\n",
    "      \n",
    "\n",
    "    return sus\n"
   ]
  },
  {
   "cell_type": "code",
   "execution_count": 972,
   "metadata": {},
   "outputs": [
    {
     "data": {
      "text/plain": [
       "[535.8794940613227,\n",
       " 629.6961534747486,\n",
       " 559.6520397591077,\n",
       " 405.2026908195387,\n",
       " 531.2507711823249,\n",
       " 436.2212460584833,\n",
       " 507.79387353865764,\n",
       " 672.8836137342034,\n",
       " 898.8677587967993,\n",
       " 728.8975818611789,\n",
       " 627.8975038672902,\n",
       " 556.7090194011041,\n",
       " 436.37699251749154,\n",
       " 371.99448177494196,\n",
       " 466.5760602882193,\n",
       " 796.6625467509214,\n",
       " 572.919091169246,\n",
       " 465.9644941018904,\n",
       " 365.7725071748605,\n",
       " 326.56748490963855,\n",
       " 456.31799652071925,\n",
       " 593.6841693110589,\n",
       " 395.4128038165694,\n",
       " 564.6917195219287,\n",
       " 413.1166599656739,\n",
       " 131.18354515351086,\n",
       " 86.38962181132135,\n",
       " 49.36675897385426,\n",
       " 27.49171112202614,\n",
       " 22.372889652178145]"
      ]
     },
     "execution_count": 972,
     "metadata": {},
     "output_type": "execute_result"
    }
   ],
   "source": [
    "lat = initLattice(20)\n",
    "avgSusArr = []\n",
    "lam = 1\n",
    "muRange = np.linspace(-50,5,30)\n",
    "for mu in muRange:\n",
    "    mArr = calcSus(lat, lam, mu)\n",
    "    avgSusArr.append(np.average(mArr))\n",
    "\n",
    "avgSusArr"
   ]
  },
  {
   "cell_type": "code",
   "execution_count": 973,
   "metadata": {},
   "outputs": [
    {
     "name": "stderr",
     "output_type": "stream",
     "text": [
      "<>:2: SyntaxWarning: invalid escape sequence '\\m'\n",
      "<>:3: SyntaxWarning: invalid escape sequence '\\c'\n",
      "<>:2: SyntaxWarning: invalid escape sequence '\\m'\n",
      "<>:3: SyntaxWarning: invalid escape sequence '\\c'\n",
      "/var/folders/tf/m_q5jhc978j5bnsvc9p4163h0000gn/T/ipykernel_28130/1898682862.py:2: SyntaxWarning: invalid escape sequence '\\m'\n",
      "  plt.xlabel(\"$\\mu^2$ with $\\lambda=1$\")\n",
      "/var/folders/tf/m_q5jhc978j5bnsvc9p4163h0000gn/T/ipykernel_28130/1898682862.py:3: SyntaxWarning: invalid escape sequence '\\c'\n",
      "  plt.ylabel(\"$\\chi$\")\n"
     ]
    },
    {
     "data": {
      "text/plain": [
       "Text(0, 0.5, '$\\\\chi$')"
      ]
     },
     "execution_count": 973,
     "metadata": {},
     "output_type": "execute_result"
    },
    {
     "data": {
      "image/png": "[encoded data removed]",
      "text/plain": [
       "<Figure size 640x480 with 1 Axes>"
      ]
     },
     "metadata": {},
     "output_type": "display_data"
    }
   ],
   "source": [
    "plt.plot(muRange, avgSusArr)\n",
    "plt.xlabel(\"$\\mu^2$ with $\\lambda=1$\")\n",
    "plt.ylabel(\"$\\chi$\")"
   ]
  },
  {
   "cell_type": "code",
   "execution_count": null,
   "metadata": {},
   "outputs": [],
   "source": [
    "plt.plot(muRange, avgSusArr)"
   ]
  },
  {
   "cell_type": "code",
   "execution_count": null,
   "metadata": {},
   "outputs": [],
   "source": [
    "size = 10\n",
    "lattice = initLattice(size)\n",
    "\n",
    "tempRange = np.flip(np.arange(0.1,4,0.01))\n",
    "susArr = []\n",
    "for temp in tempRange:\n",
    "    percent = round((tempRange[0]-temp)/tempRange[0] * 100,1)\n",
    "    print(\"%s%%    L=%s\" % (percent,size))\n",
    "    sus = calcSus(lattice, temp)\n",
    "    susArr.append(sus)\n",
    "\n",
    "name = \"sus%sArrNEW.txt\" % str(size)\n",
    "with open(name, 'w') as filehandle:\n",
    "    json.dump(susArr, filehandle)"
   ]
  }
 ],
 "metadata": {
  "kernelspec": {
   "display_name": "Python 3",
   "language": "python",
   "name": "python3"
  },
  "language_info": {
   "codemirror_mode": {
    "name": "ipython",
    "version": 3
   },
   "file_extension": ".py",
   "mimetype": "text/x-python",
   "name": "python",
   "nbconvert_exporter": "python",
   "pygments_lexer": "ipython3",
   "version": "3.12.1"
  }
 },
 "nbformat": 4,
 "nbformat_minor": 2
}
