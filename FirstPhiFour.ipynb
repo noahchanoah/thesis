{
 "cells": [
  {
   "cell_type": "markdown",
   "metadata": {},
   "source": [
    "# A First Attempt on Simulating 2D Phi-4 Lattice"
   ]
  },
  {
   "cell_type": "markdown",
   "metadata": {},
   "source": [
    "A derivation of the discretized action and Wick rotation is developed in my brown notebook. However, my result does not agree with Schaich 2006, namely because when I discretize the derivatives, I end up with a spacing of $2a$ which makes things weird with periodic boundary conditions."
   ]
  },
  {
   "cell_type": "markdown",
   "metadata": {},
   "source": [
    "### Imports"
   ]
  },
  {
   "cell_type": "code",
   "execution_count": 1,
   "metadata": {},
   "outputs": [],
   "source": [
    "#imports \n",
    "import numpy as np\n",
    "import random\n",
    "import matplotlib.pyplot as plt\n",
    "from scipy import interpolate\n",
    "from scipy import optimize\n",
    "import json\n",
    "import copy\n",
    "from scipy.optimize import curve_fit\n",
    "import math\n",
    "from scipy import fft"
   ]
  },
  {
   "cell_type": "code",
   "execution_count": null,
   "metadata": {},
   "outputs": [],
   "source": []
  },
  {
   "cell_type": "markdown",
   "metadata": {},
   "source": [
    "### Lattice algos"
   ]
  },
  {
   "cell_type": "code",
   "execution_count": 195,
   "metadata": {},
   "outputs": [],
   "source": [
    "def initLattice(latticeSize: int) -> list[list[int]]:\n",
    "    lattice = np.zeros((latticeSize, latticeSize))\n",
    "    for i in range(latticeSize):\n",
    "        for j in range(latticeSize):\n",
    "            #pick a random spin\n",
    "            spin = 0\n",
    "            randomFloat = np.random.uniform(-2,2)\n",
    "            spin = randomFloat\n",
    "            #set lattice site equal to the random spin    \n",
    "            lattice[i][j] = spin\n",
    "    \n",
    "    return lattice"
   ]
  },
  {
   "cell_type": "code",
   "execution_count": 196,
   "metadata": {},
   "outputs": [
    {
     "data": {
      "text/plain": [
       "array([[-1.3243618 ,  1.59456067,  1.83115901, -0.72849   ,  0.49980652],\n",
       "       [-0.1830821 , -1.12076254,  0.68995985,  1.68873118,  0.19754538],\n",
       "       [ 0.78279579,  1.72712483,  1.54833084, -1.7657272 , -1.38026301],\n",
       "       [ 0.35344903, -1.02936009,  1.32351807, -1.23543764, -0.98749955],\n",
       "       [-0.94185321, -1.80634003,  1.08627079, -1.77971279,  1.70904184]])"
      ]
     },
     "execution_count": 196,
     "metadata": {},
     "output_type": "execute_result"
    }
   ],
   "source": [
    "lat = initLattice(5)\n",
    "lat"
   ]
  },
  {
   "cell_type": "markdown",
   "metadata": {},
   "source": [
    "$S_E = \\frac{1}{8} \\sum_{i,j} \\left( 4\\phi^2(i,j) - 2\\phi(i,j)\\phi(i,j+2) - 2\\phi(i,j)\\phi(i+2,j) \\right) + \\sum_{i,j} \\frac{1}{2} \\mu_L^2 \\phi^2(i,j) + \\frac{\\lambda_L}{4}\\phi^4(i,j)$"
   ]
  },
  {
   "cell_type": "code",
   "execution_count": 486,
   "metadata": {},
   "outputs": [],
   "source": [
    "# Use the Euclidean action as an energy to use for Metropolis\n",
    "def deltaU(i: int, j: int, lattice: list) -> tuple[float,float]:\n",
    "    '''\n",
    "    After the Wick rotation, the Euclidean action fills the role of energy for Phi-4\n",
    "    Here, we implement the Euclidean action as derived by myself as opposed to David's solution.\n",
    "\n",
    "    Recall, Phi is just the value of the lattice site [-2,2). In Ising it was either -1 or 1. \n",
    "    '''\n",
    "\n",
    "    size = len(lattice)\n",
    "    # If site is in an edge, apply periodic boundary conditions\n",
    "    if(i == 0):\n",
    "        top = lattice[size-1,j]\n",
    "    else:\n",
    "        top = lattice[i-1][j]\n",
    "    if(i == size-1):\n",
    "        bottom = lattice[0][j]\n",
    "    else:\n",
    "        bottom = lattice[i+1][j]\n",
    "    if(j == 0):\n",
    "        left = lattice[i][size-1]\n",
    "    else:\n",
    "        left = lattice[i][j-1]\n",
    "    if(j == size-1):\n",
    "        right = lattice[i][0]\n",
    "    else:\n",
    "        right = lattice[i][j+1]\n",
    "\n",
    "    #I should change the periodic BC to be more robust such that i just take the mod of the lattice length\n",
    "\n",
    "    muL = 1\n",
    "    lamL = 100\n",
    "    phiIJ = lattice[i][j]\n",
    "    #actionStateOne = (1/2)*np.power(phiIJ,2) - (1/4)*lattice[i][j-1]*lattice[i][j+1] - (1/4)*lattice[i-1][j]*lattice[i+1][j] + (1/2)*muL*muL*np.power(phiIJ,2) + (lamL/4)*np.power(phiIJ,4) \n",
    "    actionStateOne = (1/2)*np.power(phiIJ,2) - (1/4)*left*right - (1/4)*top*bottom + (1/2)*muL*muL*np.power(phiIJ,2) + (lamL/4)*np.power(phiIJ,4) \n",
    "    #YO I EDIFF FOR THE ISING MODEL I ONLY CHECK NEIGHBORING SITES??? THIS IS NOT THE CORRECT HAMILTONIAN??? THIS IS JUST A PEICE? HOW DOES THIS RELATE TO THE ACTION\n",
    "\n",
    "    #now change the latice site and recalculate\n",
    "    newLattice = copy.deepcopy(lattice)\n",
    "    randomFloat = np.random.uniform(-2,2)\n",
    "    newLattice[i][j] = randomFloat\n",
    "    newPhiIJ = newLattice[i][j]\n",
    "    actionStateTwo = (1/2)*np.power(newPhiIJ,2) - (1/4)*left*right - (1/4)*top*bottom + (1/2)*muL*muL*np.power(newPhiIJ,2) + (lamL/4)*np.power(newPhiIJ,4) \n",
    "\n",
    "    #now calculate the energy difference\n",
    "    #Ediff = 2*lattice[i][j]*(top+bottom+left+right)\n",
    "    \n",
    "     #need to think about double couning and that factor of 2\n",
    "    Ediff = actionStateTwo - actionStateOne\n",
    "    return (Ediff,newPhiIJ)"
   ]
  },
  {
   "cell_type": "code",
   "execution_count": 350,
   "metadata": {},
   "outputs": [],
   "source": [
    "#net zero is symmetric phase"
   ]
  },
  {
   "cell_type": "code",
   "execution_count": 474,
   "metadata": {},
   "outputs": [
    {
     "name": "stdout",
     "output_type": "stream",
     "text": [
      "[[ 0.71309986  1.56084464 -0.43421254  0.67202988  0.70452828]\n",
      " [ 1.52088752 -1.2967955  -0.41845219  1.24056464  1.94066048]\n",
      " [-0.75425506  1.84479609 -1.73585725  1.01987428 -0.90486333]\n",
      " [ 0.43391243 -0.51174259 -1.57895084  0.98729702  0.51125892]\n",
      " [-1.66161597  1.37851837 -1.38278103 -1.62979391 -0.35055212]]\n"
     ]
    },
    {
     "data": {
      "text/plain": [
       "(-3.7056147256105745, -1.100397717288247)"
      ]
     },
     "execution_count": 474,
     "metadata": {},
     "output_type": "execute_result"
    }
   ],
   "source": [
    "lat = initLattice(5)\n",
    "print(lat)\n",
    "deltaU(2,2,lat)"
   ]
  },
  {
   "cell_type": "code",
   "execution_count": 392,
   "metadata": {},
   "outputs": [],
   "source": [
    "def Metropolis(lattice, iterations):\n",
    "    for iteration in range(iterations):\n",
    "        i = random.randint(0,len(lattice[0])-1)\n",
    "        j = random.randint(0,len(lattice[0])-1)\n",
    "        deltaUResult = deltaU(i,j,lattice)\n",
    "        Ediff = deltaUResult[0]\n",
    "        newSpin = deltaUResult[1]\n",
    "        #Metropolis to decide whether site should be flipped.\n",
    "        if(Ediff <= 0):\n",
    "            lattice[i][j] = newSpin\n",
    "        else:\n",
    "            #now only flip site according to Boltzmann factor IS THIS STILL THE CORRECT WEIGHTING????\n",
    "            boltzmannRandom = random.uniform(0,1)\n",
    "            if(boltzmannRandom < np.exp(-Ediff)): #Ediff must be positive so exponential is between 0 and 1 # get rid of temperature (just action)\n",
    "                lattice[i][j] = newSpin"
   ]
  },
  {
   "cell_type": "markdown",
   "metadata": {},
   "source": [
    "Before the \"temperature\" was a factor weigting the Metropolis update. Now, it is a parameter in the energy effecting the deltaU update."
   ]
  },
  {
   "cell_type": "code",
   "execution_count": 488,
   "metadata": {},
   "outputs": [
    {
     "name": "stdout",
     "output_type": "stream",
     "text": [
      "0.10664386651452336\n",
      "-0.015445508839027497\n",
      "0.029011261378832566\n",
      "0.03677455653954231\n",
      "0.01679028818497077\n",
      "-0.023853868664662596\n",
      "0.01920294323998746\n",
      "-0.016338547375422924\n",
      "0.0012080999837394168\n",
      "0.02145842597004801\n",
      "-0.01697633212219635\n",
      "0.007451003949090573\n",
      "-0.00801928083297109\n",
      "0.04224686357334328\n",
      "-0.03206563835560036\n",
      "0.00013845336325547743\n",
      "0.012689204348260147\n",
      "-0.018888672565753394\n",
      "-0.01604279939097713\n",
      "-0.009330994658952298\n",
      "-0.008148142933146064\n",
      "-0.008402283646619999\n",
      "0.05384566235305895\n",
      "0.05652940733410812\n",
      "0.05464727128792097\n",
      "-0.025085860014117084\n",
      "0.026398847831848385\n",
      "0.016149042718412318\n",
      "0.018882802142893413\n",
      "0.041043584757187695\n",
      "0.027702127703665775\n",
      "0.02452907964266693\n",
      "0.018326227161056412\n",
      "0.009174770789656748\n",
      "0.03605466111979035\n",
      "-0.0040357331248187965\n",
      "-0.03366654956634297\n",
      "-0.03248492113941019\n",
      "0.004264678140901039\n",
      "0.0043414158387323765\n",
      "0.017069033370776938\n",
      "-0.020713754321364828\n",
      "0.0019070971785611146\n",
      "-0.0026216082790660746\n",
      "-0.018843972123562105\n",
      "-0.03839418588475935\n",
      "-0.00656452346398074\n",
      "0.018922877713016963\n",
      "-0.00014746422131060478\n",
      "-0.023562040407009176\n",
      "0.02356044718641741\n",
      "0.018553798298024917\n",
      "0.014732572071198557\n",
      "0.011386448842502096\n",
      "0.025779187746471085\n",
      "-0.003584775360362613\n",
      "0.047305423560894046\n",
      "0.024917860364716275\n",
      "-0.03570199748651112\n",
      "0.01625304153132788\n",
      "0.009438518961900413\n",
      "0.020784761916311182\n",
      "0.005160704108540082\n",
      "-0.0006815983341303466\n",
      "0.0077894333213255115\n",
      "-0.04938637511923092\n",
      "-0.02962576618172322\n",
      "0.015836940944276665\n",
      "0.011575185319891247\n",
      "-0.0023537351538131367\n",
      "-0.0063697477111186625\n",
      "0.0016932296799294555\n",
      "0.05156405165425685\n",
      "0.01135332700033202\n",
      "0.05699202500063866\n",
      "-0.011051864260834675\n",
      "0.06307039617830194\n",
      "0.017473052510079478\n",
      "-0.020746128425155445\n",
      "0.013385601401702179\n",
      "-0.0069335325052573005\n",
      "-0.0015606662193016429\n",
      "-0.033572125089199774\n",
      "-0.02226047676957723\n",
      "-0.018025100687509774\n",
      "0.07004136458270795\n",
      "0.05049031992498279\n",
      "0.019750713532053127\n",
      "-0.0032349906941246463\n",
      "-0.04457960000043362\n",
      "0.0015189072529844072\n",
      "0.005312619988981413\n",
      "-4.086410661921391e-05\n",
      "0.017775542661071907\n",
      "-0.026428158453896344\n",
      "-0.006989331037855067\n",
      "0.03644902783767314\n",
      "0.018874058206762405\n",
      "-0.029110786367315154\n",
      "0.009876026390618735\n"
     ]
    }
   ],
   "source": [
    "#lattice starts in symmetric phase (random float is picked for a float)\n",
    "size = 10\n",
    "lat = initLattice(size)\n",
    "\n",
    "iters = 100\n",
    "for i in range(iters):\n",
    "    sum = 0\n",
    "    for i in range(size):\n",
    "        for j in range(size):\n",
    "            sum += lat[i][j]\n",
    "    print(sum/(size*size))\n",
    "\n",
    "    #update lattice with metropolis\n",
    "    Metropolis(lat,10000) #ADD A PARAMETER FOR LAMBDA INTO METROPOLIS AND FEED IT INTO DELTAU!!!!!!"
   ]
  },
  {
   "cell_type": "markdown",
   "metadata": {},
   "source": [
    "It seems like varying lambda is not corresponding to a phase change."
   ]
  },
  {
   "cell_type": "code",
   "execution_count": 398,
   "metadata": {},
   "outputs": [],
   "source": [
    "#removed temp\n",
    "def calcMagArr(lattice,iterations):\n",
    "    mArr = []\n",
    "    for iteration in range(iterations):\n",
    "        Metropolis(lattice, iterations)\n",
    "        if(iteration % 99 ==  0):\n",
    "            sum = 0\n",
    "            for xSite in range(len(lattice[0])):\n",
    "                for ySite in range(len(lattice[0])):\n",
    "                    sum += lattice[xSite][ySite]\n",
    "            mArr.append(abs(sum)) \n",
    "    \n",
    "    return mArr"
   ]
  },
  {
   "cell_type": "code",
   "execution_count": 349,
   "metadata": {},
   "outputs": [
    {
     "name": "stdout",
     "output_type": "stream",
     "text": [
      "0.0%\n",
      "1.0%\n",
      "2.0%\n",
      "3.0%\n",
      "4.0%\n",
      "5.0%\n",
      "6.1%\n",
      "7.1%\n",
      "8.1%\n",
      "9.1%\n",
      "10.1%\n",
      "11.1%\n",
      "12.1%\n",
      "13.1%\n",
      "14.1%\n",
      "15.1%\n",
      "16.1%\n",
      "17.2%\n",
      "18.2%\n",
      "19.2%\n",
      "20.2%\n",
      "21.2%\n",
      "22.2%\n",
      "23.2%\n",
      "24.2%\n",
      "25.2%\n",
      "26.2%\n",
      "27.2%\n",
      "28.3%\n",
      "29.3%\n",
      "30.3%\n",
      "31.3%\n",
      "32.3%\n",
      "33.3%\n",
      "34.3%\n",
      "35.3%\n",
      "36.3%\n",
      "37.3%\n",
      "38.3%\n",
      "39.4%\n",
      "40.4%\n",
      "41.4%\n",
      "42.4%\n",
      "43.4%\n",
      "44.4%\n",
      "45.4%\n",
      "46.4%\n",
      "47.4%\n",
      "48.4%\n",
      "49.4%\n",
      "50.5%\n",
      "51.5%\n",
      "52.5%\n",
      "53.5%\n",
      "54.5%\n",
      "55.5%\n",
      "56.5%\n",
      "57.5%\n",
      "58.5%\n",
      "59.5%\n",
      "60.5%\n",
      "61.6%\n",
      "62.6%\n",
      "63.6%\n",
      "64.6%\n",
      "65.6%\n",
      "66.6%\n",
      "67.6%\n",
      "68.6%\n",
      "69.6%\n",
      "70.6%\n",
      "71.6%\n",
      "72.7%\n",
      "73.7%\n",
      "74.7%\n",
      "75.7%\n",
      "76.7%\n",
      "77.7%\n",
      "78.7%\n",
      "79.7%\n",
      "80.7%\n",
      "81.7%\n",
      "82.7%\n",
      "83.8%\n",
      "84.8%\n",
      "85.8%\n",
      "86.8%\n",
      "87.8%\n",
      "88.8%\n",
      "89.8%\n",
      "90.8%\n",
      "91.8%\n",
      "92.8%\n",
      "93.8%\n",
      "94.9%\n",
      "95.9%\n",
      "96.9%\n",
      "97.9%\n",
      "98.9%\n",
      "99.9%\n"
     ]
    },
    {
     "data": {
      "text/plain": [
       "[<matplotlib.lines.Line2D at 0x1694bd610>]"
      ]
     },
     "execution_count": 349,
     "metadata": {},
     "output_type": "execute_result"
    },
    {
     "data": {
      "image/png": "[encoded data removed]",
      "text/plain": [
       "<Figure size 640x480 with 1 Axes>"
      ]
     },
     "metadata": {},
     "output_type": "display_data"
    }
   ],
   "source": [
    "size = 12 #6,12,16,24,32\n",
    "lattice = initLattice(size)\n",
    "\n",
    "tempRange = np.flip(np.arange(0.01,10,0.1))\n",
    "avgArr32 = []\n",
    "for temp in tempRange:\n",
    "    percent = round((tempRange[0]-temp)/tempRange[0] * 100,1)\n",
    "    print(\"%s%%\" % percent)\n",
    "    mAvg = 1/(np.power(size,2))*np.average(calcMagArr(lattice, temp, 1000))\n",
    "    avgArr32.append(mAvg)\n",
    "\n",
    "avgArr32\n",
    "\n",
    "plt.xlabel(\"$T$\")\n",
    "plt.ylabel(\"$m$\")\n",
    "plt.plot(tempRange, avgArr32)"
   ]
  },
  {
   "cell_type": "markdown",
   "metadata": {},
   "source": [
    "Funny plot of trying to recreate Ising model results. Clearly its meaningless (??) Maybe it should thermalize to somwhere at low temperatures?? At any rate it doesnt really matter since we are plotting neither the OP nor the CP.\n",
    "\n",
    "I need to find out how to calc vacuum expectation value and vary the critical coupling $\\frac{\\lambda}{\\mu^2}$"
   ]
  },
  {
   "cell_type": "markdown",
   "metadata": {},
   "source": []
  },
  {
   "cell_type": "markdown",
   "metadata": {},
   "source": [
    "OP: just like mag -- a sum of all lattice sites (normalized by number of sites if you want to) \\\n",
    "CP: 2d space -- fix one and sweep. this will make a curve"
   ]
  },
  {
   "cell_type": "markdown",
   "metadata": {},
   "source": []
  },
  {
   "cell_type": "markdown",
   "metadata": {},
   "source": [
    "Schaich, Loinaz, Willey seem to not generate this plot? One transition indicator used is susceptibility. THIS IS A ROUGH LATE NIGHT ATTEMPT. I need to look into what suscep. looks like if no temp exists?"
   ]
  },
  {
   "cell_type": "code",
   "execution_count": 408,
   "metadata": {},
   "outputs": [],
   "source": [
    "#Susceptibility function\n",
    "def calcSus(lattice):\n",
    "    m2Arr = []\n",
    "    magArr = calcMagArr(lattice, 1000) #already doing 10k iterations on the mag . . . and 10 on the BC call in plotting 1000000\n",
    "    m2Arr = [np.power(x,2) for x in magArr]\n",
    "    \n",
    "    avgm = np.average(magArr)\n",
    "    avgm2 = np.average(m2Arr)\n",
    "\n",
    "    sus = (avgm2 - np.power(avgm,2))\n",
    "      \n",
    "\n",
    "    return sus\n"
   ]
  },
  {
   "cell_type": "code",
   "execution_count": 409,
   "metadata": {},
   "outputs": [
    {
     "name": "stdout",
     "output_type": "stream",
     "text": [
      "[[ 1.51607658  1.44659172 -1.01553239 -1.51679846  1.4228412 ]\n",
      " [-1.65614868  1.51477663 -0.26224175 -0.56290707 -1.09173598]\n",
      " [ 1.38108898 -1.0205506   0.3808573  -0.94759729 -0.45207955]\n",
      " [-1.29128399  0.63490856  0.82361818  1.13520515  1.24450466]\n",
      " [-0.56420357  0.66995078  1.7957884   0.45175303 -0.65108246]]\n"
     ]
    },
    {
     "data": {
      "text/plain": [
       "1.9619344820823552"
      ]
     },
     "execution_count": 409,
     "metadata": {},
     "output_type": "execute_result"
    }
   ],
   "source": [
    "lat = initLattice(5)\n",
    "print(lat)\n",
    "\n",
    "calcSus(lat) #this does NOT feel O(n^2) to me"
   ]
  },
  {
   "cell_type": "code",
   "execution_count": null,
   "metadata": {},
   "outputs": [],
   "source": [
    "size = 10\n",
    "lattice = initLattice(size)\n",
    "\n",
    "tempRange = np.flip(np.arange(0.1,4,0.01))\n",
    "susArr = []\n",
    "for temp in tempRange:\n",
    "    percent = round((tempRange[0]-temp)/tempRange[0] * 100,1)\n",
    "    print(\"%s%%    L=%s\" % (percent,size))\n",
    "    sus = calcSus(lattice, temp)\n",
    "    susArr.append(sus)\n",
    "\n",
    "name = \"sus%sArrNEW.txt\" % str(size)\n",
    "with open(name, 'w') as filehandle:\n",
    "    json.dump(susArr, filehandle)"
   ]
  }
 ],
 "metadata": {
  "kernelspec": {
   "display_name": "Python 3",
   "language": "python",
   "name": "python3"
  },
  "language_info": {
   "codemirror_mode": {
    "name": "ipython",
    "version": 3
   },
   "file_extension": ".py",
   "mimetype": "text/x-python",
   "name": "python",
   "nbconvert_exporter": "python",
   "pygments_lexer": "ipython3",
   "version": "3.12.1"
  }
 },
 "nbformat": 4,
 "nbformat_minor": 2
}
