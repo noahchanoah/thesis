{
 "cells": [
  {
   "cell_type": "markdown",
   "metadata": {},
   "source": [
    "# A rigorous, thorough, and high quality determination of phase transition existence and critical temperature in the 2D Ising Model"
   ]
  },
  {
   "cell_type": "markdown",
   "metadata": {},
   "source": [
    "Determine the phase transition exists:\n",
    "1. Mag vs. Temp\n",
    "2. Sus. vs. Temp\n",
    "3. Heat cap vs. Temp\n",
    "4. Autocorrelation vs. Temp\n",
    "\n",
    "Determine that the data we are taking is independent:\n",
    "1. Autocorrelation as a func of lag time\n",
    "2. Mag/sus/heat time series data\n",
    "3. ?\n",
    "\n",
    "Calculate critical temperature:\n",
    "1. Binder cumulant\n",
    "2. Finite scaling techniques??????\n",
    "3. autocor?????\n",
    "\n",
    "Do these things for various lattice sizes (can I extrapolate to infinite lattice size?). Also think about error bars/uncertainty for each method and lattice size"
   ]
  },
  {
   "cell_type": "markdown",
   "metadata": {},
   "source": [
    "### Imports"
   ]
  },
  {
   "cell_type": "code",
   "execution_count": 2,
   "metadata": {},
   "outputs": [],
   "source": [
    "#imports \n",
    "import numpy as np\n",
    "import random\n",
    "import matplotlib.pyplot as plt\n",
    "from scipy import interpolate\n",
    "from scipy import optimize\n",
    "import json\n",
    "import copy\n",
    "from scipy.optimize import curve_fit\n",
    "import math\n",
    "from scipy import fft"
   ]
  },
  {
   "cell_type": "markdown",
   "metadata": {},
   "source": [
    "### Lattice Algorithms"
   ]
  },
  {
   "cell_type": "code",
   "execution_count": 9,
   "metadata": {},
   "outputs": [],
   "source": [
    "def initLattice(latticeSize: int, hot: bool) -> list[list[int]]:\n",
    "    lattice = np.zeros((latticeSize, latticeSize))\n",
    "    if hot:\n",
    "        for i in range(latticeSize):\n",
    "            for j in range(latticeSize):\n",
    "                #pick a random spin\n",
    "                spin = 0\n",
    "                randomInt = random.randint(0,1)\n",
    "                if(randomInt == 1):\n",
    "                    spin = 1\n",
    "                else:\n",
    "                    spin = -1\n",
    "                #set lattice site equal to the random spin    \n",
    "                lattice[i][j] = spin\n",
    "    else: #lattice is cold\n",
    "        for i in range(latticeSize):\n",
    "            for j in range(latticeSize):\n",
    "                #set all lattice sites to spin up\n",
    "                spin = 1\n",
    "                lattice[i][j] = spin\n",
    "    \n",
    "    return lattice"
   ]
  },
  {
   "cell_type": "code",
   "execution_count": 10,
   "metadata": {},
   "outputs": [],
   "source": [
    "# Calculate change in energy of lattice by flipping a single site (i,j)\n",
    "def deltaU(i: int, j: int, lattice: list) -> float:\n",
    "    '''\n",
    "    This calulation requires considering neighboring sites (first term in Hamiltonian)\n",
    "    Therefore, we will use periodic boundary conditions (torus)\n",
    "    I would like to imlement the external field term so you can drive the system to specific states\n",
    "\n",
    "    E1 = -spin(i,j)*sum(spin(neighbors)),     E2 = spin(i,j)*sum(spin(neighbors))\n",
    "    Ediff = E2 - E1 = 2spin(i,j)*sum(neighbors) (if spin(i,j) is 1 (up))            <<<<< NO epsilon/J? unclear why, currently just implementing pseudocode exactly as written\n",
    "\n",
    "    In the mean field approximation E_up = -4J*sum(spin(neighbors))/4) \n",
    "\n",
    "    i is vertical, j is horizontal, zero indexed\n",
    "    '''\n",
    "\n",
    "    size = len(lattice)\n",
    "    # If site is in an edge, apply periodic boundary conditions\n",
    "    if(i == 0):\n",
    "        top = lattice[size-1,j]\n",
    "    else:\n",
    "        top = lattice[i-1][j]\n",
    "    if(i == size-1):\n",
    "        bottom = lattice[0][j]\n",
    "    else:\n",
    "        bottom = lattice[i+1][j]\n",
    "    if(j == 0):\n",
    "        left = lattice[i][size-1]\n",
    "    else:\n",
    "        left = lattice[i][j-1]\n",
    "    if(j == size-1):\n",
    "        right = lattice[i][0]\n",
    "    else:\n",
    "        right = lattice[i][j+1]\n",
    "\n",
    "    #now calculate the energy difference\n",
    "    Ediff = 2*lattice[i][j]*(top+bottom+left+right)\n",
    "    return Ediff"
   ]
  },
  {
   "cell_type": "code",
   "execution_count": 114,
   "metadata": {},
   "outputs": [],
   "source": [
    "def Metropolis(lattice, temp, iterations):\n",
    "    m = []\n",
    "    for iteration in range(iterations):\n",
    "\n",
    "        if((iteration % 99 == 0) and (iteration != 0)):\n",
    "            sum = 0\n",
    "            for xSite in range(lattice[0].size):\n",
    "                for ySite in range(lattice[0].size):\n",
    "                    sum += lattice[xSite][ySite]\n",
    "            m.append(abs(sum)) #NEW: try storing abs of mag\n",
    "\n",
    "        i = random.randint(0,lattice[0].size-1)\n",
    "        j = random.randint(0,lattice[0].size-1)\n",
    "        Ediff = deltaU(i,j,lattice)\n",
    "        #Metropolis to decide whether site should be flipped. Needs to be iterated 100 times??\n",
    "        if(Ediff <= 0):\n",
    "            lattice[i][j] = -lattice[i][j] \n",
    "        else:\n",
    "            #now only flip site according to Boltzmann factor\n",
    "            boltzmannRandom = random.uniform(0,1)\n",
    "            if(boltzmannRandom < np.exp(-Ediff/temp)): #Ediff must be positive so exponential is between 0 and 1\n",
    "                lattice[i][j] = -lattice[i][j]\n",
    "\n",
    "    return m"
   ]
  },
  {
   "cell_type": "markdown",
   "metadata": {},
   "source": [
    "### Observable plots\n",
    "Things mentioned in the first sections go here."
   ]
  },
  {
   "cell_type": "code",
   "execution_count": 128,
   "metadata": {},
   "outputs": [
    {
     "data": {
      "text/plain": [
       "array([ 4.,  4.,  0., 18., 22.,  4., 22., 32., 10.,  4., 10.,  2., 16.,\n",
       "        2.,  4., 16.,  6.,  6.,  6.,  4.,  6., 18.,  6.,  0., 18.,  0.,\n",
       "       16., 18., 16.,  4., 10.,  6., 24.,  6., 18.,  4., 12.,  6.,  6.,\n",
       "       24., 24., 20., 16., 16.,  4., 12.,  8.,  8., 22., 30.])"
      ]
     },
     "execution_count": 128,
     "metadata": {},
     "output_type": "execute_result"
    }
   ],
   "source": [
    "#Magnetization vs temperature\n",
    "lattice = initLattice(12, True)\n",
    "T = 10\n",
    "\n",
    "magnetizationArray = []\n",
    "numMeasurements = 10\n",
    "\n",
    "for measurement in np.arange(numMeasurements):\n",
    "    curMag = Metropolis(lattice, T, 500)\n",
    "    magnetizationArray.append(curMag)\n",
    "\n",
    "#flatten array\n",
    "magnetizationArray = np.array(magnetizationArray)\n",
    "magnetizationArray = magnetizationArray.flatten()\n",
    "magnetizationArray"
   ]
  },
  {
   "cell_type": "code",
   "execution_count": 121,
   "metadata": {},
   "outputs": [
    {
     "data": {
      "text/plain": [
       "[[24.0]]"
      ]
     },
     "execution_count": 121,
     "metadata": {},
     "output_type": "execute_result"
    }
   ],
   "source": [
    "magnetizationArray"
   ]
  },
  {
   "cell_type": "code",
   "execution_count": null,
   "metadata": {},
   "outputs": [],
   "source": []
  }
 ],
 "metadata": {
  "kernelspec": {
   "display_name": "Python 3",
   "language": "python",
   "name": "python3"
  },
  "language_info": {
   "codemirror_mode": {
    "name": "ipython",
    "version": 3
   },
   "file_extension": ".py",
   "mimetype": "text/x-python",
   "name": "python",
   "nbconvert_exporter": "python",
   "pygments_lexer": "ipython3",
   "version": "3.12.1"
  }
 },
 "nbformat": 4,
 "nbformat_minor": 2
}
