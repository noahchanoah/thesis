{
 "cells": [
  {
   "cell_type": "markdown",
   "metadata": {},
   "source": [
    "### Some tests for an Ising model implementation and visualization"
   ]
  },
  {
   "cell_type": "markdown",
   "metadata": {},
   "source": [
    "The Ising model Hamiltonian is $\\mathcal{H} = -J\\sum_{\\langle i,j \\rangle} \\sigma_i \\sigma_j - \\sum_j h\\sigma_j$. The partition function is $Z=\\sum_{\\{\\sigma_i\\}} e^{-\\beta U}$ with $U=-\\epsilon\\sum_{\\langle i,j \\rangle} \\sigma_i \\sigma_j$ (8.38 and 8.39). The partition function sums over each possible lattice states but there are $2^N$ possible lattice states so for a $10\\times 10$ lattice, we have $2^{10^2}\\approx 10^{30}$ configurations. This means writing a program that attempts to analyze each possible lattice state will not succeed.\n",
    "\n",
    "The Metropolis algorithim is a method of importance sampling that generates sample satets for a Monte Carlo simulation (integration) with the correct Boltzmann probabilities. This is a natural choice because we should *probably* sample the most likely states the most --- we don't need to sample extremely rare states. (Think of choosing a more clever volume to integrate over instead of a rectangle to approximate the volume of some other shape). **Schroeder uses periodic (torus) BC**."
   ]
  },
  {
   "cell_type": "markdown",
   "metadata": {},
   "source": [
    "Why is Metropolis done 100 times per site? Here I implement the pseudo code in Schroeder."
   ]
  },
  {
   "cell_type": "code",
   "execution_count": 1,
   "metadata": {},
   "outputs": [
    {
     "name": "stdout",
     "output_type": "stream",
     "text": [
      "pygame 2.5.2 (SDL 2.28.3, Python 3.11.5)\n",
      "Hello from the pygame community. https://www.pygame.org/contribute.html\n"
     ]
    }
   ],
   "source": [
    "import pygame\n",
    "from pygame.locals import *\n",
    "import numpy as np"
   ]
  },
  {
   "cell_type": "code",
   "execution_count": 6,
   "metadata": {},
   "outputs": [
    {
     "ename": "",
     "evalue": "",
     "output_type": "error",
     "traceback": [
      "\u001b[1;31mThe Kernel crashed while executing code in the the current cell or a previous cell. Please review the code in the cell(s) to identify a possible cause of the failure. Click <a href='https://aka.ms/vscodeJupyterKernelCrash'>here</a> for more info. View Jupyter <a href='command:jupyter.viewOutput'>log</a> for further details."
     ]
    }
   ],
   "source": [
    "pygame.init()\n",
    "\n",
    "screen_width=700\n",
    "screen_height=400\n",
    "screen=pygame.display.set_mode((screen_width, screen_height))\n",
    "\n",
    "surface = pygame.Surface((100,100))\n",
    "rectangle = pygame.Rect(50,50,10,20)\n",
    "pygame.draw.rect(surface, \"red\", rectangle)\n",
    "while True:\n",
    "    pygame.display.flip()"
   ]
  },
  {
   "cell_type": "markdown",
   "metadata": {},
   "source": [
    "Im just trying to get pygame to work quickly. Then Ising implementation should be good"
   ]
  },
  {
   "cell_type": "code",
   "execution_count": 3,
   "metadata": {},
   "outputs": [
    {
     "ename": "SyntaxError",
     "evalue": "(unicode error) 'unicodeescape' codec can't decode bytes in position 2-3: malformed \\N character escape (1315872679.py, line 8)",
     "output_type": "error",
     "traceback": [
      "\u001b[1;36m  Cell \u001b[1;32mIn[3], line 8\u001b[1;36m\u001b[0m\n\u001b[1;33m    player = pygame.images.load(\"C:\\Noah\")\u001b[0m\n\u001b[1;37m                                         ^\u001b[0m\n\u001b[1;31mSyntaxError\u001b[0m\u001b[1;31m:\u001b[0m (unicode error) 'unicodeescape' codec can't decode bytes in position 2-3: malformed \\N character escape\n"
     ]
    }
   ],
   "source": [
    "import pygame\n",
    "from pygame.locals import *\n",
    "\n",
    "pygame.init()\n",
    "width, height = 640, 480\n",
    "screen=pygame.display.set_mode((width, height))\n",
    "\n",
    "player = pygame.images.load(\"C:\\Noah\")\n",
    "\n",
    "while 1:\n",
    "    # 5 - clear the screen before drawing it again\n",
    "    screen.fill(0)\n",
    "    # 6 - draw the screen elements\n",
    "    screen.blit(player, (100,100))\n",
    "    # 7 - update the screen\n",
    "    pygame.display.flip()\n",
    "    # 8 - loop through the events\n",
    "    for event in pygame.event.get():\n",
    "        # check if the event is the X button\n",
    "        if event.type==pygame.QUIT:\n",
    "            # if it is quit the game\n",
    "            pygame.quit()\n",
    "            exit(0)"
   ]
  },
  {
   "cell_type": "code",
   "execution_count": null,
   "metadata": {},
   "outputs": [],
   "source": []
  }
 ],
 "metadata": {
  "kernelspec": {
   "display_name": "Python 3",
   "language": "python",
   "name": "python3"
  },
  "language_info": {
   "codemirror_mode": {
    "name": "ipython",
    "version": 3
   },
   "file_extension": ".py",
   "mimetype": "text/x-python",
   "name": "python",
   "nbconvert_exporter": "python",
   "pygments_lexer": "ipython3",
   "version": "3.11.5"
  }
 },
 "nbformat": 4,
 "nbformat_minor": 2
}
