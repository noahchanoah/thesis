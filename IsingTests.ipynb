{
 "cells": [
  {
   "cell_type": "markdown",
   "metadata": {},
   "source": [
    "### Some tests for an Ising model implementation and visualization"
   ]
  },
  {
   "cell_type": "markdown",
   "metadata": {},
   "source": [
    "The Ising model Hamiltonian is $\\mathcal{H} = -J\\sum_{\\langle i,j \\rangle} \\sigma_i \\sigma_j - \\sum_j h\\sigma_j$. The partition function is $Z=\\sum_{\\{\\sigma_i\\}} e^{-\\beta U}$ with $U=-\\epsilon\\sum_{\\langle i,j \\rangle} \\sigma_i \\sigma_j$ (8.38 and 8.39). The partition function sums over each possible lattice states but there are $2^N$ possible lattice states so for a $10\\times 10$ lattice, we have $2^{10^2}\\approx 10^{30}$ configurations. This means writing a program that attempts to analyze each possible lattice state will not succeed.\n",
    "\n",
    "The Metropolis algorithim is a method of importance sampling that generates sample satets for a Monte Carlo simulation (integration) with the correct Boltzmann probabilities. This is a natural choice because we should *probably* sample the most likely states the most --- we don't need to sample extremely rare states. (Think of choosing a more clever volume to integrate over instead of a rectangle to approximate the volume of some other shape). **Schroeder uses periodic (torus) BC**."
   ]
  },
  {
   "cell_type": "markdown",
   "metadata": {},
   "source": [
    "Why is Metropolis done 100 times per site? Here I implement the pseudo code in Schroeder."
   ]
  },
  {
   "cell_type": "code",
   "execution_count": null,
   "metadata": {},
   "outputs": [
    {
     "name": "stdout",
     "output_type": "stream",
     "text": [
      "pygame 2.5.2 (SDL 2.28.3, Python 3.11.5)\n",
      "Hello from the pygame community. https://www.pygame.org/contribute.html\n"
     ]
    }
   ],
   "source": [
    "import pygame\n",
    "from pygame.locals import *\n",
    "import numpy as np"
   ]
  },
  {
   "cell_type": "markdown",
   "metadata": {},
   "source": [
    "Im just trying to get pygame to work quickly. Then Ising implementation should be good"
   ]
  },
  {
   "cell_type": "code",
   "execution_count": 53,
   "metadata": {},
   "outputs": [
    {
     "ename": "SystemExit",
     "evalue": "",
     "output_type": "error",
     "traceback": [
      "An exception has occurred, use %tb to see the full traceback.\n",
      "\u001b[1;31mSystemExit\u001b[0m\n"
     ]
    },
    {
     "name": "stderr",
     "output_type": "stream",
     "text": [
      "C:\\Users\\Noah\\AppData\\Roaming\\Python\\Python311\\site-packages\\IPython\\core\\interactiveshell.py:3534: UserWarning: To exit: use 'exit', 'quit', or Ctrl-D.\n",
      "  warn(\"To exit: use 'exit', 'quit', or Ctrl-D.\", stacklevel=1)\n"
     ]
    }
   ],
   "source": [
    "import pygame\n",
    "from pygame.locals import *\n",
    "import sys\n",
    "import numpy as np\n",
    "\n",
    "# Initializing Pygame\n",
    "pygame.init()\n",
    " \n",
    "# Initializing surface\n",
    "surface = pygame.display.set_mode((500,500))\n",
    " \n",
    "# Initializing Color\n",
    "color = (255,0,0)\n",
    " \n",
    "# Drawing Rectangle\n",
    "#pygame.draw.rect(surface, color, pygame.Rect(10, 20, 490, 490)) #rect: x,y,width,height . . . draws from x,y at top left\n",
    "# Draw lattice\n",
    "latticeSize = 500 \n",
    "c = 0\n",
    "for x in np.arange(0,latticeSize,10):\n",
    "    c += 1\n",
    "    c = c%2\n",
    "    color = (255,0,0)\n",
    "    if(c!=1):\n",
    "        color = (0,0,255)\n",
    "    for y in np.arange(0,latticeSize,10):\n",
    "        pygame.draw.rect(surface, color, pygame.Rect(x, y, 10, 10)) #each site will be a square of size 5 \n",
    "pygame.display.flip()\n",
    "while True:\n",
    "    for event in pygame.event.get():\n",
    "        # check if the event is the X button\n",
    "        if event.type==pygame.QUIT:\n",
    "            # if it is quit the game\n",
    "            pygame.display.quit()\n",
    "            pygame.quit()\n",
    "            sys.exit()"
   ]
  },
  {
   "cell_type": "code",
   "execution_count": null,
   "metadata": {},
   "outputs": [],
   "source": []
  },
  {
   "cell_type": "code",
   "execution_count": null,
   "metadata": {},
   "outputs": [],
   "source": []
  }
 ],
 "metadata": {
  "kernelspec": {
   "display_name": "Python 3",
   "language": "python",
   "name": "python3"
  },
  "language_info": {
   "codemirror_mode": {
    "name": "ipython",
    "version": 3
   },
   "file_extension": ".py",
   "mimetype": "text/x-python",
   "name": "python",
   "nbconvert_exporter": "python",
   "pygments_lexer": "ipython3",
   "version": "3.11.5"
  }
 },
 "nbformat": 4,
 "nbformat_minor": 2
}
