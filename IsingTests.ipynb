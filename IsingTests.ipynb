{
 "cells": [
  {
   "cell_type": "markdown",
   "metadata": {},
   "source": [
    "### Some tests for an Ising model implementation and visualization"
   ]
  },
  {
   "cell_type": "markdown",
   "metadata": {},
   "source": [
    "The Ising model Hamiltonian is $\\mathcal{H} = -J\\sum_{\\langle i,j \\rangle} \\sigma_i \\sigma_j - \\sum_j h\\sigma_j$. The partition function is $Z=\\sum_{\\{\\sigma_i\\}} e^{-\\beta U}$ with $U=-\\epsilon\\sum_{\\langle i,j \\rangle} \\sigma_i \\sigma_j$ (8.38 and 8.39). The partition function sums over each possible lattice states but there are $2^N$ possible lattice states so for a $10\\times 10$ lattice, we have $2^{10^2}\\approx 10^{30}$ configurations. This means writing a program that attempts to analyze each possible lattice state will not succeed."
   ]
  },
  {
   "cell_type": "markdown",
   "metadata": {},
   "source": []
  }
 ],
 "metadata": {
  "language_info": {
   "name": "python"
  }
 },
 "nbformat": 4,
 "nbformat_minor": 2
}
