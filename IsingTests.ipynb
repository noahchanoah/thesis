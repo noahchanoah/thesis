{
 "cells": [
  {
   "cell_type": "markdown",
   "metadata": {},
   "source": [
    "### Some tests for an Ising model implementation and visualization"
   ]
  },
  {
   "cell_type": "markdown",
   "metadata": {},
   "source": [
    "The Ising model Hamiltonian is $\\mathcal{H} = -J\\sum_{\\langle i,j \\rangle} \\sigma_i \\sigma_j - \\sum_j h\\sigma_j$. The partition function is $Z=\\sum_{\\{\\sigma_i\\}} e^{-\\beta U}$ with $U=-\\epsilon\\sum_{\\langle i,j \\rangle} \\sigma_i \\sigma_j$ (8.38 and 8.39). The partition function sums over each possible lattice states but there are $2^N$ possible lattice states so for a $10\\times 10$ lattice, we have $2^{10^2}\\approx 10^{30}$ configurations. This means writing a program that attempts to analyze each possible lattice state will not succeed.\n",
    "\n",
    "The Metropolis algorithim is a method of importance sampling that generates sample satets for a Monte Carlo simulation (integration) with the correct Boltzmann probabilities. This is a natural choice because we should *probably* sample the most likely states the most --- we don't need to sample extremely rare states. (Think of choosing a more clever volume to integrate over instead of a rectangle to approximate the volume of some other shape). **Schroeder uses periodic (torus) BC**."
   ]
  },
  {
   "cell_type": "markdown",
   "metadata": {},
   "source": [
    "Why is Metropolis done 100 times per site? Here I implement the pseudo code in Schroeder."
   ]
  },
  {
   "cell_type": "code",
   "execution_count": null,
   "metadata": {},
   "outputs": [
    {
     "name": "stdout",
     "output_type": "stream",
     "text": [
      "pygame 2.5.2 (SDL 2.28.3, Python 3.11.5)\n",
      "Hello from the pygame community. https://www.pygame.org/contribute.html\n"
     ]
    }
   ],
   "source": [
    "import pygame\n",
    "from pygame.locals import *\n",
    "import numpy as np"
   ]
  },
  {
   "cell_type": "markdown",
   "metadata": {},
   "source": [
    "Im just trying to get pygame to work quickly. Then Ising implementation should be good"
   ]
  },
  {
   "cell_type": "code",
   "execution_count": 1,
   "metadata": {},
   "outputs": [
    {
     "name": "stdout",
     "output_type": "stream",
     "text": [
      "pygame 2.5.2 (SDL 2.28.3, Python 3.11.5)\n",
      "Hello from the pygame community. https://www.pygame.org/contribute.html\n"
     ]
    },
    {
     "ename": "SystemExit",
     "evalue": "",
     "output_type": "error",
     "traceback": [
      "An exception has occurred, use %tb to see the full traceback.\n",
      "\u001b[1;31mSystemExit\u001b[0m\n"
     ]
    },
    {
     "name": "stderr",
     "output_type": "stream",
     "text": [
      "C:\\Users\\Noah\\AppData\\Roaming\\Python\\Python311\\site-packages\\IPython\\core\\interactiveshell.py:3534: UserWarning: To exit: use 'exit', 'quit', or Ctrl-D.\n",
      "  warn(\"To exit: use 'exit', 'quit', or Ctrl-D.\", stacklevel=1)\n"
     ]
    }
   ],
   "source": [
    "import pygame\n",
    "from pygame.locals import *\n",
    "import sys\n",
    "import numpy as np\n",
    "import random\n",
    "\n",
    "# Initializing Pygame\n",
    "pygame.init()\n",
    " \n",
    "# Initializing surface\n",
    "surface = pygame.display.set_mode((500,500))\n",
    "pygame.display.set_caption('Ising Simulation')\n",
    " \n",
    "# Initializing lattice TODO: REWRITE TO DRAW COLOR BASED OFF SPIN???\n",
    "spinUp = (250, 199, 72) #yellow\n",
    "spinDown = (29, 47, 111) #blue\n",
    "def initLattice(latticeSize: int, siteSize: int) -> list[list[int]]:\n",
    "    lattice = np.zeros((latticeSize, latticeSize))\n",
    "    for x in np.arange(0, latticeSize*siteSize, siteSize):\n",
    "        for y in np.arange(0, latticeSize*siteSize, siteSize):\n",
    "            spin = random.randint(0,1)\n",
    "            if(spin == 1):\n",
    "                lattice[int(x/siteSize)][int(y/siteSize)] = 1\n",
    "                color = spinUp\n",
    "            else:\n",
    "                lattice[int(x/siteSize)][int(y/siteSize)] = -1\n",
    "                color = spinDown\n",
    "            pygame.draw.rect(surface, color, pygame.Rect(x, y, siteSize, siteSize)) \n",
    "    return lattice\n",
    "\n",
    "# Update the color of a given site.\n",
    "def updateLatticeColors(i: int, j: int, lattice: list[list[int]], siteSize: int) -> None:\n",
    "    #if the current state is spin up, color the square spin up\n",
    "    if(lattice[i][j] == 1):\n",
    "        pygame.draw.rect(surface, spinUp, pygame.Rect(i*siteSize, j*siteSize, siteSize, siteSize))\n",
    "        return\n",
    "    #otherwise color spin down\n",
    "    if(lattice[i][j] == -1):\n",
    "        pygame.draw.rect(surface, spinDown, pygame.Rect(i*siteSize, j*siteSize, siteSize, siteSize))\n",
    "        return\n",
    "    #if neither case caught, there is an error\n",
    "    print(\"Couldn't update lattice color at (%s,%s)\" % (i,j)) #TODO: report at what coordinate the lattice could not update the color\n",
    "\n",
    "# Calculate change in energy of lattice by flipping a single site (i,j)\n",
    "def deltaU(i: int, j: int, lattice: list) -> float:\n",
    "    '''\n",
    "    This calulation requires considering neighboring sites (first term in Hamiltonian)\n",
    "    Therefore, we will use periodic boundary conditions (torus)\n",
    "    I would like to imlement the external field term so you can drive the system to specific states\n",
    "\n",
    "    E1 = -spin(i,j)*sum(spin(neighbors)),     E2 = spin(i,j)*sum(spin(neighbors))\n",
    "    Ediff = E2 - E1 = 2spin(i,j)*sum(neighbors) (if spin(i,j) is 1 (up))            <<<<< NO epsilon/J? unclear why, currently just implementing pseudocode exactly as written\n",
    "\n",
    "    In the mean field approximation E_up = -4J*sum(spin(neighbors))/4) \n",
    "\n",
    "    i is vertical, j is horizontal, zero indexed\n",
    "    '''\n",
    "\n",
    "    size = len(lattice)\n",
    "    # If site is in an edge, apply periodic boundary conditions\n",
    "    if(i == 0):\n",
    "        top = lattice[size-1,j]\n",
    "    else:\n",
    "        top = lattice[i-1][j]\n",
    "    if(i == size-1):\n",
    "        bottom = lattice[0][j]\n",
    "    else:\n",
    "        bottom = lattice[i+1][j]\n",
    "    if(j == 0):\n",
    "        left = lattice[i][size-1]\n",
    "    else:\n",
    "        left = lattice[i][j-1]\n",
    "    if(j == size-1):\n",
    "        right = lattice[i][0]\n",
    "    else:\n",
    "        right = lattice[i][j+1]\n",
    "\n",
    "    #now calculate the energy difference\n",
    "    Ediff = 2*lattice[i][j]*(top+bottom+left+right)\n",
    "    return Ediff\n",
    "\n",
    "\n",
    "size = 50*5\n",
    "siteSize = 5\n",
    "lat = initLattice(size,siteSize)\n",
    "pygame.display.flip()\n",
    "# print(lat)\n",
    "# ed = deltaU(0,0,lat)\n",
    "# print(\"Ediff: %s\" % ed)\n",
    "\n",
    "# Simulation loop\n",
    "while True:\n",
    "    T = 2.5 #in units of J/k (J is epsilon the coupling constant, k is boltzmann k)\n",
    "\n",
    "    #unclear if i should be doing 100 attempts of metropolis per site??? the pseudo code doesnt do this, it picks a new random site each time\n",
    "    for iteration in range(100):\n",
    "        #redraw lattice\n",
    "        pygame.display.flip()\n",
    "\n",
    "        #calc Ediff for a site\n",
    "        i = random.randint(0,size-1) #draw from top left so 49 goes to 50\n",
    "        j = random.randint(0,size-1)\n",
    "        Ediff = deltaU(i,j,lat)\n",
    "        #print(\"Ediff: %s\" % Ediff)\n",
    "\n",
    "        #Metropolis to decide whether site should be flipped\n",
    "        if(Ediff <= 0):\n",
    "            lat[i][j] = -lat[i][j] #need to update color here\n",
    "            updateLatticeColors(i,j,lat,siteSize)\n",
    "        else:\n",
    "            #now only flip site according to Boltzmann factor\n",
    "            boltzmannRandom = random.uniform(0,1)\n",
    "            if(boltzmannRandom < np.exp(-Ediff/T)):\n",
    "                lat[i][j] = -lat[i][j]\n",
    "                updateLatticeColors(i,j,lat,siteSize)\n",
    "\n",
    "    #Check if the user tries to close the window\n",
    "    for event in pygame.event.get():\n",
    "        #pygame.display.flip() UNCOMMENT THIS FOR COOL EFFECT\n",
    "        # check if the event is the X button\n",
    "        if event.type==pygame.QUIT:\n",
    "            # if it is quit the game\n",
    "            pygame.display.quit()\n",
    "            pygame.quit()\n",
    "            sys.exit()"
   ]
  },
  {
   "cell_type": "code",
   "execution_count": null,
   "metadata": {},
   "outputs": [],
   "source": []
  }
 ],
 "metadata": {
  "kernelspec": {
   "display_name": "Python 3",
   "language": "python",
   "name": "python3"
  },
  "language_info": {
   "codemirror_mode": {
    "name": "ipython",
    "version": 3
   },
   "file_extension": ".py",
   "mimetype": "text/x-python",
   "name": "python",
   "nbconvert_exporter": "python",
   "pygments_lexer": "ipython3",
   "version": "3.11.5"
  }
 },
 "nbformat": 4,
 "nbformat_minor": 2
}
