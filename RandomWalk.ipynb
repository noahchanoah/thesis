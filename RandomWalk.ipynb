{
 "cells": [
  {
   "cell_type": "markdown",
   "metadata": {},
   "source": [
    "# Random Walks in Various Dimensions\n",
    "### Noah Chavez 10/7/2023"
   ]
  },
  {
   "cell_type": "markdown",
   "metadata": {},
   "source": [
    "#### 1D"
   ]
  },
  {
   "cell_type": "markdown",
   "metadata": {},
   "source": [
    "First import some packages"
   ]
  },
  {
   "cell_type": "code",
   "execution_count": 125,
   "metadata": {},
   "outputs": [],
   "source": [
    "import math\n",
    "import random\n",
    "import numpy as np\n",
    "import matplotlib.pyplot as plt"
   ]
  },
  {
   "cell_type": "markdown",
   "metadata": {},
   "source": [
    "Now we can write a 1D random walk easily. We can describe the current step of the walk using just one integer. Then, for each step there is an equal chance of moving in either direction. We using a Mersenne Twister to generate pseudo random numbers to \"pick\" the next step. **DOES EACH DIRECTION NEED TO EQUAL FOR A RANDOM WALK?**"
   ]
  },
  {
   "cell_type": "code",
   "execution_count": 226,
   "metadata": {},
   "outputs": [],
   "source": [
    "#a function to calculate average distance from the origin for a random walk of N steps\n",
    "def walk_distance(number_of_steps: int, display_plot: bool) -> float:\n",
    "\n",
    "    #intialize some values\n",
    "    current_step = 0\n",
    "    position = 0 #init position to the origin\n",
    "    pos_history = np.array([0])\n",
    "\n",
    "    #pick a random direction (left or right) and move that way\n",
    "    while(current_step < number_of_steps):\n",
    "        current_step += 1\n",
    "        random_number = random.randint(0,1)\n",
    "        if(random_number == 0):\n",
    "            position += 1\n",
    "        else:\n",
    "            position -= 1\n",
    "        pos_history = np.append(pos_history,position) #store the new current position\n",
    "\n",
    "\n",
    "    #calculate the average position over the whole walk\n",
    "    avg_pos = (sum([abs(pos_history[step]) for step in np.arange(number_of_steps)]))/(number_of_steps) #dist = abs in 1D\n",
    "    #print(\"Average distance is: %s\" % avg_pos)\n",
    "\n",
    "    if(display_plot):\n",
    "        #now plot it\n",
    "        print([step for step in np.arange(number_of_steps+1)])\n",
    "        print([pos_history[step] for step in np.arange(number_of_steps+1)])\n",
    "        plt.plot([step for step in np.arange(number_of_steps+1)], [pos_history[step] for step in np.arange(number_of_steps+1)],color=\"blue\")\n",
    "        plt.axhline(y=0,color=\"black\")\n",
    "\n",
    "    #print(\"Distance upon termination is: %s\" % abs(position))\n",
    "    return abs(position)\n"
   ]
  },
  {
   "cell_type": "markdown",
   "metadata": {},
   "source": [
    "Now we can do some stats or just plot some runs out"
   ]
  },
  {
   "cell_type": "code",
   "execution_count": 228,
   "metadata": {},
   "outputs": [
    {
     "data": {
      "text/plain": [
       "[<matplotlib.lines.Line2D at 0x194e82b98b0>]"
      ]
     },
     "execution_count": 228,
     "metadata": {},
     "output_type": "execute_result"
    },
    {
     "data": {
      "image/png": "[encoded data removed]",
      "text/plain": [
       "<Figure size 640x480 with 1 Axes>"
      ]
     },
     "metadata": {},
     "output_type": "display_data"
    }
   ],
   "source": [
    "def avg_distance(number_of_steps: int, number_of_trials:int) -> float:\n",
    "    avg_dist = 0\n",
    "    for run in np.arange(number_of_trials):\n",
    "        avg_dist += walk_distance(number_of_steps,False)\n",
    "\n",
    "    avg_dist = avg_dist / number_of_trials\n",
    "    return avg_dist\n",
    "\n",
    "    \n",
    "number_of_steps = 1000\n",
    "number_of_trials = 1000\n",
    "#res = avg_distance(number_of_steps,number_of_trials)\n",
    "#print(\"The average distance upon termination is: %s\" % res)\n",
    "\n",
    "logspacing = 50\n",
    "#this lets us plot the average distance at termination as a functio of many steps taken\n",
    "plt.plot([int(step) for step in np.logspace(1,math.log10(number_of_steps),logspacing)], [avg_distance(int(step),number_of_trials) for step in np.logspace(1,math.log10(number_of_steps),logspacing)])\n",
    "#plt.plot([x+1 for x in np.arange(1000)], [math.log(x+1) for x in np.arange(1000)])\n",
    "plt.plot([x for x in np.arange(1000)], [math.sqrt(x) for x in np.arange(1000)])\n",
    "\n",
    "\n"
   ]
  },
  {
   "cell_type": "markdown",
   "metadata": {},
   "source": [
    "I guessed that the distance from the origin went as distance ~ sqrt(N). After searching around I have found that this is the correct relationship. Once thing that is concerning is my data is much lower than sqrt(N). Perhaps it is just a proportionality? I need to look into this more. "
   ]
  },
  {
   "cell_type": "markdown",
   "metadata": {},
   "source": [
    "Some old code below that averages the distance over one run"
   ]
  },
  {
   "cell_type": "code",
   "execution_count": 229,
   "metadata": {},
   "outputs": [],
   "source": [
    "#a function to calculate average distance from the origin for a random walk of N steps\n",
    "def avg_walk_distance(number_of_steps: int, display_plot: bool) -> float:\n",
    "\n",
    "    #intialize some values\n",
    "    current_step = 0\n",
    "    position = 0 #init position to the origin\n",
    "    pos_history = np.array([])\n",
    "\n",
    "    #pick a random direction (left or right) and move that way\n",
    "    while(current_step < number_of_steps):\n",
    "        random_number = random.randint(0,1)\n",
    "        pos_history = np.append(pos_history,position) #store the current position\n",
    "        if(random_number == 0):\n",
    "            position += 1\n",
    "        else:\n",
    "            position -= 1\n",
    "\n",
    "        current_step += 1\n",
    "\n",
    "    #calculate the average position over the whole walk\n",
    "    avg_pos = (sum([abs(pos_history[step]) for step in np.arange(number_of_steps)]))/(number_of_steps) #dist = abs in 1D\n",
    "    #print(\"Average distance is: %s\" % avg_pos)\n",
    "\n",
    "    if(display_plot):\n",
    "        #now plot it\n",
    "        plt.plot([step for step in np.arange(number_of_steps)], [pos_history[step] for step in np.arange(number_of_steps)],color=\"blue\")\n",
    "        plt.axhline(y=0,color=\"black\")\n",
    "\n",
    "    return avg_pos"
   ]
  }
 ],
 "metadata": {
  "kernelspec": {
   "display_name": "Python 3",
   "language": "python",
   "name": "python3"
  },
  "language_info": {
   "codemirror_mode": {
    "name": "ipython",
    "version": 3
   },
   "file_extension": ".py",
   "mimetype": "text/x-python",
   "name": "python",
   "nbconvert_exporter": "python",
   "pygments_lexer": "ipython3",
   "version": "3.9.6"
  },
  "orig_nbformat": 4
 },
 "nbformat": 4,
 "nbformat_minor": 2
}
